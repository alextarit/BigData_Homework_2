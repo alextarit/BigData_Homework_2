{
 "cells": [
  {
   "cell_type": "code",
   "execution_count": 1,
   "id": "a2b06d19-8478-4df4-bb2d-99dfa4f07aad",
   "metadata": {},
   "outputs": [],
   "source": [
    "from pyspark.sql import SparkSession\n",
    "from pyspark.sql import functions as F"
   ]
  },
  {
   "cell_type": "code",
   "execution_count": 2,
   "id": "1e1909f1-a5fa-4393-8213-a0c8bca6525d",
   "metadata": {},
   "outputs": [
    {
     "name": "stdout",
     "output_type": "stream",
     "text": [
      ":: loading settings :: url = jar:file:/usr/local/lib/python3.11/dist-packages/pyspark/jars/ivy-2.5.1.jar!/org/apache/ivy/core/settings/ivysettings.xml\n"
     ]
    },
    {
     "name": "stderr",
     "output_type": "stream",
     "text": [
      "Ivy Default Cache set to: /root/.ivy2/cache\n",
      "The jars for the packages stored in: /root/.ivy2/jars\n",
      "org.apache.hadoop#hadoop-aws added as a dependency\n",
      "com.amazonaws#aws-java-sdk-pom added as a dependency\n",
      "org.apache.spark#spark-sql-kafka-0-10_2.12 added as a dependency\n",
      ":: resolving dependencies :: org.apache.spark#spark-submit-parent-ee6169c4-274f-4e4e-a531-15346832bc49;1.0\n",
      "\tconfs: [default]\n",
      "\tfound org.apache.hadoop#hadoop-aws;3.3.2 in central\n",
      "\tfound com.amazonaws#aws-java-sdk-bundle;1.11.1026 in central\n",
      "\tfound org.wildfly.openssl#wildfly-openssl;1.0.7.Final in central\n",
      "\tfound com.amazonaws#aws-java-sdk-pom;1.12.365 in central\n",
      "\tfound org.apache.spark#spark-sql-kafka-0-10_2.12;3.5.1 in central\n",
      "\tfound org.apache.spark#spark-token-provider-kafka-0-10_2.12;3.5.1 in central\n",
      "\tfound org.apache.kafka#kafka-clients;3.4.1 in central\n",
      "\tfound org.lz4#lz4-java;1.8.0 in central\n",
      "\tfound org.xerial.snappy#snappy-java;1.1.10.3 in central\n",
      "\tfound org.slf4j#slf4j-api;2.0.7 in central\n",
      "\tfound org.apache.hadoop#hadoop-client-runtime;3.3.4 in central\n",
      "\tfound org.apache.hadoop#hadoop-client-api;3.3.4 in central\n",
      "\tfound commons-logging#commons-logging;1.1.3 in central\n",
      "\tfound com.google.code.findbugs#jsr305;3.0.0 in central\n",
      "\tfound org.apache.commons#commons-pool2;2.11.1 in central\n",
      ":: resolution report :: resolve 336ms :: artifacts dl 11ms\n",
      "\t:: modules in use:\n",
      "\tcom.amazonaws#aws-java-sdk-bundle;1.11.1026 from central in [default]\n",
      "\tcom.amazonaws#aws-java-sdk-pom;1.12.365 from central in [default]\n",
      "\tcom.google.code.findbugs#jsr305;3.0.0 from central in [default]\n",
      "\tcommons-logging#commons-logging;1.1.3 from central in [default]\n",
      "\torg.apache.commons#commons-pool2;2.11.1 from central in [default]\n",
      "\torg.apache.hadoop#hadoop-aws;3.3.2 from central in [default]\n",
      "\torg.apache.hadoop#hadoop-client-api;3.3.4 from central in [default]\n",
      "\torg.apache.hadoop#hadoop-client-runtime;3.3.4 from central in [default]\n",
      "\torg.apache.kafka#kafka-clients;3.4.1 from central in [default]\n",
      "\torg.apache.spark#spark-sql-kafka-0-10_2.12;3.5.1 from central in [default]\n",
      "\torg.apache.spark#spark-token-provider-kafka-0-10_2.12;3.5.1 from central in [default]\n",
      "\torg.lz4#lz4-java;1.8.0 from central in [default]\n",
      "\torg.slf4j#slf4j-api;2.0.7 from central in [default]\n",
      "\torg.wildfly.openssl#wildfly-openssl;1.0.7.Final from central in [default]\n",
      "\torg.xerial.snappy#snappy-java;1.1.10.3 from central in [default]\n",
      "\t---------------------------------------------------------------------\n",
      "\t|                  |            modules            ||   artifacts   |\n",
      "\t|       conf       | number| search|dwnlded|evicted|| number|dwnlded|\n",
      "\t---------------------------------------------------------------------\n",
      "\t|      default     |   15  |   0   |   0   |   0   ||   14  |   0   |\n",
      "\t---------------------------------------------------------------------\n",
      ":: retrieving :: org.apache.spark#spark-submit-parent-ee6169c4-274f-4e4e-a531-15346832bc49\n",
      "\tconfs: [default]\n",
      "\t0 artifacts copied, 14 already retrieved (0kB/6ms)\n",
      "24/07/11 17:45:22 WARN NativeCodeLoader: Unable to load native-hadoop library for your platform... using builtin-java classes where applicable\n",
      "Setting default log level to \"WARN\".\n",
      "To adjust logging level use sc.setLogLevel(newLevel). For SparkR, use setLogLevel(newLevel).\n"
     ]
    }
   ],
   "source": [
    "ACCESS_KEY = \"bvdzdoz57qif0GYdiShG\"\n",
    "SECRET_KEY = \"n5m5SjzQctzEMlPI9nMVPJgUM3BlQF8Otrp1jFg5\"\n",
    "MINIO_URL = \"http://minio:9000\"\n",
    "\n",
    "spark = SparkSession.builder \\\n",
    "    .master(\"spark://spark-master:7077\") \\\n",
    "    .appName(\"HW2\") \\\n",
    "    .config(\"spark.sql.adaptive.enabled\", False) \\\n",
    "    .config(\"spark.sql.autoBroadcastJoinThreshold\", -1) \\\n",
    "    .config(\"spark.sql.sources.bucketing.enabled\", True) \\\n",
    "    .config(\"spark.executor.memory\", \"1000M\") \\\n",
    "    .config(\"spark.driver.memory\", \"600M\") \\\n",
    "    .config('spark.jars.packages', \n",
    "        \"org.apache.hadoop:hadoop-aws:3.3.2,com.amazonaws:aws-java-sdk-pom:1.12.365,org.apache.spark:spark-sql-kafka-0-10_2.12:3.5.1\"\n",
    "    ) \\\n",
    "    .config(\"spark.hadoop.fs.s3a.impl\", \"org.apache.hadoop.fs.s3a.S3AFileSystem\") \\\n",
    "    .config('spark.hadoop.fs.s3a.aws.credentials.provider', 'org.apache.hadoop.fs.s3a.SimpleAWSCredentialsProvider') \\\n",
    "    .config(\"spark.hadoop.fs.s3a.path.style.access\", \"true\") \\\n",
    "    .config(\"spark.hadoop.fs.s3a.access.key\", ACCESS_KEY) \\\n",
    "    .config(\"spark.hadoop.fs.s3a.secret.key\", SECRET_KEY) \\\n",
    "    .config(\"spark.hadoop.fs.s3a.endpoint\", MINIO_URL) \\\n",
    "    .getOrCreate()"
   ]
  },
  {
   "cell_type": "code",
   "execution_count": 3,
   "id": "e6e91ca2-3dc5-4605-9393-b303508a6b06",
   "metadata": {},
   "outputs": [
    {
     "data": {
      "text/html": [
       "\n",
       "            <div>\n",
       "                <p><b>SparkSession - in-memory</b></p>\n",
       "                \n",
       "        <div>\n",
       "            <p><b>SparkContext</b></p>\n",
       "\n",
       "            <p><a href=\"http://bdb05b5dc8f4:4040\">Spark UI</a></p>\n",
       "\n",
       "            <dl>\n",
       "              <dt>Version</dt>\n",
       "                <dd><code>v3.5.1</code></dd>\n",
       "              <dt>Master</dt>\n",
       "                <dd><code>spark://spark-master:7077</code></dd>\n",
       "              <dt>AppName</dt>\n",
       "                <dd><code>HW2</code></dd>\n",
       "            </dl>\n",
       "        </div>\n",
       "        \n",
       "            </div>\n",
       "        "
      ],
      "text/plain": [
       "<pyspark.sql.session.SparkSession at 0xffffa40d2fd0>"
      ]
     },
     "execution_count": 3,
     "metadata": {},
     "output_type": "execute_result"
    }
   ],
   "source": [
    "spark"
   ]
  },
  {
   "cell_type": "markdown",
   "id": "02f9ece4-83c7-486a-84b6-192fca40d533",
   "metadata": {},
   "source": [
    "# Задание 1\n",
    "\n",
    "## Входные данные \n",
    "- Файл с данными по оттоку телеком оператора в США (churn.csv)\n",
    "- Справочник с названиями штатов (state.json)\n",
    "- Справочник с численностью населения территорий (определяется полем area code) внутри штатов (state.json)\n",
    "- Террия с численностью населения меньше 10_000 считается **мелкой**\n",
    "\n",
    "## Что нужно сделать\n",
    "1. Посчитать количество отточных и неотточных абонентов (поле churn), исключив **мелкие** территории\n",
    "2. Отчет должен быть выполнен в разрезе **каждого штата** с его полным наименованием\n",
    "3. Описать возникающие узкие места при выполнении данной операции\n",
    "4. Применить один из способов оптимизации для ускорения выполнения запроса (при допущении, что справочник численности населения **сильно меньше** основных данных)\n",
    "5. Если существует еще какой-то способ, применить также и его отдельно от п.4 (при допущении, что справочник численности населения **сопоставим по размеру** с основными данными)\n",
    "6. Кратко описать реализованные способы и в чем их практическая польза\n",
    "\n",
    "- P.S. Одним из выбранных способов должен быть Bucket specific join\n",
    "- P.P.S. При обосновании предлагаем прикладывать запуска команды df.explain()"
   ]
  },
  {
   "cell_type": "code",
   "execution_count": 4,
   "id": "9b58da6b-e2ff-4cd6-9995-c4d35e5c2745",
   "metadata": {
    "scrolled": true
   },
   "outputs": [
    {
     "name": "stderr",
     "output_type": "stream",
     "text": [
      "24/07/11 17:45:24 WARN MetricsConfig: Cannot locate configuration: tried hadoop-metrics2-s3a-file-system.properties,hadoop-metrics2.properties\n",
      "                                                                                \r"
     ]
    }
   ],
   "source": [
    "churn_df = spark.read.option(\"header\", True).csv(\"s3a://input/data/churn.csv\")\n",
    "state_dict = spark.read.json(\"s3a://input/data/state.json\")\n",
    "pop_dict = spark.read.json(\"s3a://input/data/population.json\")"
   ]
  },
  {
   "cell_type": "markdown",
   "id": "f18763c6",
   "metadata": {},
   "source": [
    "### Решение"
   ]
  },
  {
   "cell_type": "markdown",
   "id": "568286cb-1279-4f2d-86e3-ff1fc6fd822d",
   "metadata": {},
   "source": [
    "Проведем сначала небольшой разведочный анализ (EDA) для понимания того, что хранится в каждом нашем датафрейме spark."
   ]
  },
  {
   "cell_type": "code",
   "execution_count": 5,
   "id": "726d1246-26ca-40e1-905f-85c51a582dd9",
   "metadata": {},
   "outputs": [
    {
     "name": "stdout",
     "output_type": "stream",
     "text": [
      "+---+-----+--------------+---------+------------+------------------+---------------+---------------------+-----------------+---------------+----------------+-----------------+---------------+----------------+-------------------+-----------------+------------------+------------------+----------------+-----------------+----------------------+-----+---+\n",
      "| id|state|account length|area code|phone number|international plan|voice mail plan|number vmail messages|total day minutes|total day calls|total day charge|total eve minutes|total eve calls|total eve charge|total night minutes|total night calls|total night charge|total intl minutes|total intl calls|total intl charge|customer service calls|churn|val|\n",
      "+---+-----+--------------+---------+------------+------------------+---------------+---------------------+-----------------+---------------+----------------+-----------------+---------------+----------------+-------------------+-----------------+------------------+------------------+----------------+-----------------+----------------------+-----+---+\n",
      "| 22|   AK|           173|      131|    349-9060|                no|             no|                    0|            172.5|             78|           29.33|            142.6|             91|           12.12|              102.0|               63|              4.59|              10.9|               2|             2.94|                     0|False|131|\n",
      "| 23|   AK|           120|      131|    366-6991|                no|             no|                    0|            178.4|             97|           30.33|            168.3|            113|           14.31|              120.5|               93|              5.42|               9.3|               9|             2.51|                     1|False|131|\n",
      "| 24|   AK|            76|      131|    366-9781|                no|            yes|                   22|            160.1|            107|           27.22|            168.7|            136|           14.34|               23.2|              102|              1.04|               9.5|               4|             2.57|                     3|False|131|\n",
      "| 32|   AK|           132|      139|    346-4360|                no|             no|                    0|            181.1|            121|           30.79|            314.4|            109|           26.72|              246.7|               81|              11.1|               4.2|               9|             1.13|                     2|False|139|\n",
      "| 35|   AK|            97|      141|    380-2600|                no|            yes|                   24|            176.1|            109|           29.94|            159.4|             81|           13.55|              269.1|               94|             12.11|              12.1|               9|             3.27|                     0|False|141|\n",
      "+---+-----+--------------+---------+------------+------------------+---------------+---------------------+-----------------+---------------+----------------+-----------------+---------------+----------------+-------------------+-----------------+------------------+------------------+----------------+-----------------+----------------------+-----+---+\n",
      "only showing top 5 rows\n",
      "\n"
     ]
    }
   ],
   "source": [
    "churn_df.show(5)"
   ]
  },
  {
   "cell_type": "code",
   "execution_count": 6,
   "id": "120f8082-79f9-403e-a741-0a580bf700f8",
   "metadata": {},
   "outputs": [
    {
     "name": "stdout",
     "output_type": "stream",
     "text": [
      "root\n",
      " |-- id: string (nullable = true)\n",
      " |-- state: string (nullable = true)\n",
      " |-- account length: string (nullable = true)\n",
      " |-- area code: string (nullable = true)\n",
      " |-- phone number: string (nullable = true)\n",
      " |-- international plan: string (nullable = true)\n",
      " |-- voice mail plan: string (nullable = true)\n",
      " |-- number vmail messages: string (nullable = true)\n",
      " |-- total day minutes: string (nullable = true)\n",
      " |-- total day calls: string (nullable = true)\n",
      " |-- total day charge: string (nullable = true)\n",
      " |-- total eve minutes: string (nullable = true)\n",
      " |-- total eve calls: string (nullable = true)\n",
      " |-- total eve charge: string (nullable = true)\n",
      " |-- total night minutes: string (nullable = true)\n",
      " |-- total night calls: string (nullable = true)\n",
      " |-- total night charge: string (nullable = true)\n",
      " |-- total intl minutes: string (nullable = true)\n",
      " |-- total intl calls: string (nullable = true)\n",
      " |-- total intl charge: string (nullable = true)\n",
      " |-- customer service calls: string (nullable = true)\n",
      " |-- churn: string (nullable = true)\n",
      " |-- val: string (nullable = true)\n",
      "\n"
     ]
    }
   ],
   "source": [
    "churn_df.printSchema()"
   ]
  },
  {
   "cell_type": "code",
   "execution_count": 7,
   "id": "d7bd521c",
   "metadata": {},
   "outputs": [
    {
     "name": "stdout",
     "output_type": "stream",
     "text": [
      "+--------+----------+\n",
      "|state_id|state_name|\n",
      "+--------+----------+\n",
      "|      AL|   Alabama|\n",
      "|      AK|    Alaska|\n",
      "|      AZ|   Arizona|\n",
      "|      AR|  Arkansas|\n",
      "|      CA|California|\n",
      "+--------+----------+\n",
      "only showing top 5 rows\n",
      "\n"
     ]
    }
   ],
   "source": [
    "state_dict.show(5)"
   ]
  },
  {
   "cell_type": "code",
   "execution_count": 8,
   "id": "c37fcfd3-ed79-4053-befe-54f19a0f0d66",
   "metadata": {},
   "outputs": [
    {
     "name": "stdout",
     "output_type": "stream",
     "text": [
      "root\n",
      " |-- state_id: string (nullable = true)\n",
      " |-- state_name: string (nullable = true)\n",
      "\n"
     ]
    }
   ],
   "source": [
    "state_dict.printSchema()"
   ]
  },
  {
   "cell_type": "code",
   "execution_count": 9,
   "id": "899da56e-0919-49e2-bbe2-787d612cca02",
   "metadata": {},
   "outputs": [
    {
     "name": "stdout",
     "output_type": "stream",
     "text": [
      "+---------+----------+\n",
      "|area code|population|\n",
      "+---------+----------+\n",
      "|      131|     15742|\n",
      "|      139|     20233|\n",
      "|      145|     54682|\n",
      "|      153|     34569|\n",
      "|      155|     58342|\n",
      "+---------+----------+\n",
      "only showing top 5 rows\n",
      "\n"
     ]
    }
   ],
   "source": [
    "pop_dict.show(5)"
   ]
  },
  {
   "cell_type": "code",
   "execution_count": 10,
   "id": "ca1711af-56d8-44e6-9b3f-d1e6bc08cecf",
   "metadata": {},
   "outputs": [
    {
     "name": "stdout",
     "output_type": "stream",
     "text": [
      "root\n",
      " |-- area code: long (nullable = true)\n",
      " |-- population: long (nullable = true)\n",
      "\n"
     ]
    }
   ],
   "source": [
    "pop_dict.printSchema()"
   ]
  },
  {
   "cell_type": "code",
   "execution_count": 11,
   "id": "ecaee4ae",
   "metadata": {},
   "outputs": [],
   "source": [
    "#зафиксируем трешхолд для последующей оптимизации\n",
    "POP_THRESHOLD = 10_000"
   ]
  },
  {
   "cell_type": "code",
   "execution_count": 12,
   "id": "f2795d9d-1f9c-4581-9800-956238ce973d",
   "metadata": {},
   "outputs": [],
   "source": [
    "#уберем мелкие территории, так называемый метод Predicate pushdown перенесли шаг фильтрации ближе к источнику\n",
    "churn_and_pop = churn_df.join(pop_dict, on=\"area code\", how=\"inner\") \\\n",
    "    .filter(F.col(\"population\") > POP_THRESHOLD)"
   ]
  },
  {
   "cell_type": "code",
   "execution_count": 13,
   "id": "b7ad1f57-b204-41b6-b4df-0c405b2e6aa9",
   "metadata": {},
   "outputs": [
    {
     "name": "stderr",
     "output_type": "stream",
     "text": [
      "                                                                                \r"
     ]
    }
   ],
   "source": [
    "result = churn_and_pop.join(state_dict, churn_and_pop.state==state_dict.state_id, how=\"left\") \\\n",
    "    .groupBy(\"state_name\") \\\n",
    "    .pivot(\"churn\") \\\n",
    "    .agg(F.count(\"*\")) \\\n",
    "    .orderBy(\"state_name\")"
   ]
  },
  {
   "cell_type": "code",
   "execution_count": 14,
   "id": "a14b64c8",
   "metadata": {},
   "outputs": [
    {
     "name": "stdout",
     "output_type": "stream",
     "text": [
      "== Physical Plan ==\n",
      "*(12) Sort [state_name#72 ASC NULLS FIRST], true, 0\n",
      "+- Exchange rangepartitioning(state_name#72 ASC NULLS FIRST, 200), ENSURE_REQUIREMENTS, [plan_id=343]\n",
      "   +- *(11) Project [state_name#72, __pivot_count(1) AS `count(1)`#345[0] AS False#346L, __pivot_count(1) AS `count(1)`#345[1] AS True#347L]\n",
      "      +- HashAggregate(keys=[state_name#72], functions=[pivotfirst(churn#38, count(1)#339L, False, True, 0, 0)])\n",
      "         +- Exchange hashpartitioning(state_name#72, 200), ENSURE_REQUIREMENTS, [plan_id=338]\n",
      "            +- HashAggregate(keys=[state_name#72], functions=[partial_pivotfirst(churn#38, count(1)#339L, False, True, 0, 0)])\n",
      "               +- *(10) HashAggregate(keys=[state_name#72, churn#38], functions=[count(1)])\n",
      "                  +- Exchange hashpartitioning(state_name#72, churn#38, 200), ENSURE_REQUIREMENTS, [plan_id=333]\n",
      "                     +- *(9) HashAggregate(keys=[state_name#72, churn#38], functions=[partial_count(1)])\n",
      "                        +- *(9) Project [churn#38, state_name#72]\n",
      "                           +- *(9) SortMergeJoin [state#18], [state_id#71], LeftOuter\n",
      "                              :- *(6) Sort [state#18 ASC NULLS FIRST], false, 0\n",
      "                              :  +- Exchange hashpartitioning(state#18, 200), ENSURE_REQUIREMENTS, [plan_id=316]\n",
      "                              :     +- *(5) Project [state#18, churn#38]\n",
      "                              :        +- *(5) SortMergeJoin [cast(area code#20 as bigint)], [area code#83L], Inner\n",
      "                              :           :- *(2) Sort [cast(area code#20 as bigint) ASC NULLS FIRST], false, 0\n",
      "                              :           :  +- Exchange hashpartitioning(cast(area code#20 as bigint), 200), ENSURE_REQUIREMENTS, [plan_id=299]\n",
      "                              :           :     +- *(1) Filter isnotnull(area code#20)\n",
      "                              :           :        +- FileScan csv [state#18,area code#20,churn#38] Batched: false, DataFilters: [isnotnull(area code#20)], Format: CSV, Location: InMemoryFileIndex(1 paths)[s3a://input/data/churn.csv], PartitionFilters: [], PushedFilters: [IsNotNull(area code)], ReadSchema: struct<state:string,area code:string,churn:string>\n",
      "                              :           +- *(4) Sort [area code#83L ASC NULLS FIRST], false, 0\n",
      "                              :              +- Exchange hashpartitioning(area code#83L, 200), ENSURE_REQUIREMENTS, [plan_id=308]\n",
      "                              :                 +- *(3) Project [area code#83L]\n",
      "                              :                    +- *(3) Filter ((isnotnull(population#84L) AND (population#84L > 10000)) AND isnotnull(area code#83L))\n",
      "                              :                       +- FileScan json [area code#83L,population#84L] Batched: false, DataFilters: [isnotnull(population#84L), (population#84L > 10000), isnotnull(area code#83L)], Format: JSON, Location: InMemoryFileIndex(1 paths)[s3a://input/data/population.json], PartitionFilters: [], PushedFilters: [IsNotNull(population), GreaterThan(population,10000), IsNotNull(area code)], ReadSchema: struct<area code:bigint,population:bigint>\n",
      "                              +- *(8) Sort [state_id#71 ASC NULLS FIRST], false, 0\n",
      "                                 +- Exchange hashpartitioning(state_id#71, 200), ENSURE_REQUIREMENTS, [plan_id=324]\n",
      "                                    +- *(7) Filter isnotnull(state_id#71)\n",
      "                                       +- FileScan json [state_id#71,state_name#72] Batched: false, DataFilters: [isnotnull(state_id#71)], Format: JSON, Location: InMemoryFileIndex(1 paths)[s3a://input/data/state.json], PartitionFilters: [], PushedFilters: [IsNotNull(state_id)], ReadSchema: struct<state_id:string,state_name:string>\n",
      "\n",
      "\n"
     ]
    },
    {
     "name": "stderr",
     "output_type": "stream",
     "text": [
      "                                                                                \r"
     ]
    },
    {
     "name": "stdout",
     "output_type": "stream",
     "text": [
      "+--------------------+-----+----+\n",
      "|state_name          |False|True|\n",
      "+--------------------+-----+----+\n",
      "|Alabama             |58   |7   |\n",
      "|Alaska              |44   |3   |\n",
      "|Arizona             |53   |4   |\n",
      "|Arkansas            |35   |9   |\n",
      "|California          |21   |8   |\n",
      "|Colorado            |49   |7   |\n",
      "|Connecticut         |56   |8   |\n",
      "|Delaware            |48   |8   |\n",
      "|District of Columbia|43   |4   |\n",
      "|Florida             |45   |8   |\n",
      "|Georgia             |42   |8   |\n",
      "|Hawaii              |42   |3   |\n",
      "|Idaho               |53   |9   |\n",
      "|Illinois            |49   |5   |\n",
      "|Indiana             |59   |9   |\n",
      "|Iowa                |34   |3   |\n",
      "|Kansas              |50   |12  |\n",
      "|Kentucky            |51   |8   |\n",
      "|Louisiana           |47   |4   |\n",
      "|Maine               |49   |13  |\n",
      "+--------------------+-----+----+\n",
      "only showing top 20 rows\n",
      "\n"
     ]
    }
   ],
   "source": [
    "result.explain()\n",
    "result.show(truncate=False)"
   ]
  },
  {
   "cell_type": "markdown",
   "id": "64ce5657-696d-489c-96cd-7bb1db563d68",
   "metadata": {},
   "source": [
    "Следует перечислить следующие узкие места:\n",
    "* т.к. наши файлы pop_dict и state_dict имеют размерность точно меньше <10МБ , то при соединении мы можем использовать BroadcastJoinThreshold было бы тут эффективнее\n",
    "* из прочего пункта поскольку у нас sort merge join, то по плану видно, что имеется четыре операции перемешивания exchange до операции merge(логично было бы что два поскольку два join, поэтому вопросики к catalyst в данном случае либо ко мне) \n",
    "* сильный перекос в timeline в spark ui stages"
   ]
  },
  {
   "cell_type": "markdown",
   "id": "5fc29e32-581e-480b-b298-923d0fe80ce5",
   "metadata": {},
   "source": [
    "### Оптимизация 1 - broadcast has join"
   ]
  },
  {
   "cell_type": "code",
   "execution_count": 15,
   "id": "52085180-7fd5-4054-afdc-b4bd56c5ad30",
   "metadata": {},
   "outputs": [],
   "source": [
    "pop_dict_broad = F.broadcast(pop_dict)\n",
    "state_dict_broad = F.broadcast(state_dict)"
   ]
  },
  {
   "cell_type": "code",
   "execution_count": 16,
   "id": "62f5a785-7687-43cc-9416-341e8ec36907",
   "metadata": {},
   "outputs": [],
   "source": [
    "churn_and_pop_broad = churn_df.join(pop_dict_broad, on=\"area code\", how=\"inner\") \\\n",
    "    .filter(F.col(\"population\") > POP_THRESHOLD)"
   ]
  },
  {
   "cell_type": "code",
   "execution_count": 17,
   "id": "de7afd3b-75f5-4351-9c8d-e3816edb2381",
   "metadata": {},
   "outputs": [
    {
     "name": "stderr",
     "output_type": "stream",
     "text": [
      "                                                                                \r"
     ]
    }
   ],
   "source": [
    "result_broad = churn_and_pop_broad.join(state_dict_broad, churn_and_pop_broad.state==state_dict.state_id, how=\"left\") \\\n",
    "    .groupBy(\"state_name\") \\\n",
    "    .pivot(\"churn\") \\\n",
    "    .agg(F.count(\"*\")) \\\n",
    "    .orderBy(\"state_name\")"
   ]
  },
  {
   "cell_type": "code",
   "execution_count": 18,
   "id": "cea922ac",
   "metadata": {},
   "outputs": [
    {
     "name": "stdout",
     "output_type": "stream",
     "text": [
      "== Physical Plan ==\n",
      "*(6) Sort [state_name#72 ASC NULLS FIRST], true, 0\n",
      "+- Exchange rangepartitioning(state_name#72 ASC NULLS FIRST, 200), ENSURE_REQUIREMENTS, [plan_id=862]\n",
      "   +- *(5) Project [state_name#72, __pivot_count(1) AS `count(1)`#518[0] AS False#519L, __pivot_count(1) AS `count(1)`#518[1] AS True#520L]\n",
      "      +- HashAggregate(keys=[state_name#72], functions=[pivotfirst(churn#38, count(1)#512L, False, True, 0, 0)])\n",
      "         +- Exchange hashpartitioning(state_name#72, 200), ENSURE_REQUIREMENTS, [plan_id=857]\n",
      "            +- HashAggregate(keys=[state_name#72], functions=[partial_pivotfirst(churn#38, count(1)#512L, False, True, 0, 0)])\n",
      "               +- *(4) HashAggregate(keys=[state_name#72, churn#38], functions=[count(1)])\n",
      "                  +- Exchange hashpartitioning(state_name#72, churn#38, 200), ENSURE_REQUIREMENTS, [plan_id=852]\n",
      "                     +- *(3) HashAggregate(keys=[state_name#72, churn#38], functions=[partial_count(1)])\n",
      "                        +- *(3) Project [churn#38, state_name#72]\n",
      "                           +- *(3) BroadcastHashJoin [state#18], [state_id#71], LeftOuter, BuildRight, false\n",
      "                              :- *(3) Project [state#18, churn#38]\n",
      "                              :  +- *(3) BroadcastHashJoin [cast(area code#20 as bigint)], [area code#83L], Inner, BuildRight, false\n",
      "                              :     :- *(3) Filter isnotnull(area code#20)\n",
      "                              :     :  +- FileScan csv [state#18,area code#20,churn#38] Batched: false, DataFilters: [isnotnull(area code#20)], Format: CSV, Location: InMemoryFileIndex(1 paths)[s3a://input/data/churn.csv], PartitionFilters: [], PushedFilters: [IsNotNull(area code)], ReadSchema: struct<state:string,area code:string,churn:string>\n",
      "                              :     +- BroadcastExchange HashedRelationBroadcastMode(List(input[0, bigint, true]),false), [plan_id=839]\n",
      "                              :        +- *(1) Project [area code#83L]\n",
      "                              :           +- *(1) Filter ((isnotnull(population#84L) AND (population#84L > 10000)) AND isnotnull(area code#83L))\n",
      "                              :              +- FileScan json [area code#83L,population#84L] Batched: false, DataFilters: [isnotnull(population#84L), (population#84L > 10000), isnotnull(area code#83L)], Format: JSON, Location: InMemoryFileIndex(1 paths)[s3a://input/data/population.json], PartitionFilters: [], PushedFilters: [IsNotNull(population), GreaterThan(population,10000), IsNotNull(area code)], ReadSchema: struct<area code:bigint,population:bigint>\n",
      "                              +- BroadcastExchange HashedRelationBroadcastMode(List(input[0, string, false]),false), [plan_id=846]\n",
      "                                 +- *(2) Filter isnotnull(state_id#71)\n",
      "                                    +- FileScan json [state_id#71,state_name#72] Batched: false, DataFilters: [isnotnull(state_id#71)], Format: JSON, Location: InMemoryFileIndex(1 paths)[s3a://input/data/state.json], PartitionFilters: [], PushedFilters: [IsNotNull(state_id)], ReadSchema: struct<state_id:string,state_name:string>\n",
      "\n",
      "\n"
     ]
    },
    {
     "name": "stderr",
     "output_type": "stream",
     "text": [
      "[Stage 25:=================================================>    (182 + 2) / 200]\r"
     ]
    },
    {
     "name": "stdout",
     "output_type": "stream",
     "text": [
      "+--------------------+-----+----+\n",
      "|state_name          |False|True|\n",
      "+--------------------+-----+----+\n",
      "|Alabama             |58   |7   |\n",
      "|Alaska              |44   |3   |\n",
      "|Arizona             |53   |4   |\n",
      "|Arkansas            |35   |9   |\n",
      "|California          |21   |8   |\n",
      "|Colorado            |49   |7   |\n",
      "|Connecticut         |56   |8   |\n",
      "|Delaware            |48   |8   |\n",
      "|District of Columbia|43   |4   |\n",
      "|Florida             |45   |8   |\n",
      "|Georgia             |42   |8   |\n",
      "|Hawaii              |42   |3   |\n",
      "|Idaho               |53   |9   |\n",
      "|Illinois            |49   |5   |\n",
      "|Indiana             |59   |9   |\n",
      "|Iowa                |34   |3   |\n",
      "|Kansas              |50   |12  |\n",
      "|Kentucky            |51   |8   |\n",
      "|Louisiana           |47   |4   |\n",
      "|Maine               |49   |13  |\n",
      "+--------------------+-----+----+\n",
      "only showing top 20 rows\n",
      "\n"
     ]
    },
    {
     "name": "stderr",
     "output_type": "stream",
     "text": [
      "                                                                                \r"
     ]
    }
   ],
   "source": [
    "result_broad.explain()\n",
    "result_broad.show(truncate=False)"
   ]
  },
  {
   "cell_type": "markdown",
   "id": "daadb995-3def-430f-8574-acdba40312b7",
   "metadata": {},
   "source": [
    "Broadcast hash join дает преимущество в виде скорости за счет того, что данные содержит локально на каждом executor и нет необходимости производить сетевую операцию - shuffle"
   ]
  },
  {
   "cell_type": "markdown",
   "id": "1ac80fd0",
   "metadata": {},
   "source": [
    "### Оптимизация 2 - bucket specific join"
   ]
  },
  {
   "cell_type": "code",
   "execution_count": 19,
   "id": "36c18f89",
   "metadata": {},
   "outputs": [
    {
     "name": "stderr",
     "output_type": "stream",
     "text": [
      "                                                                                \r"
     ]
    }
   ],
   "source": [
    "#бакитируем один из датафреймов чтобы репартирование при join происходило без shuffle и sort\n",
    "churn_df.repartition(1) \\\n",
    "    .write \\\n",
    "    .mode(\"overwrite\") \\\n",
    "    .bucketBy(100, col=\"area code\") \\\n",
    "    .option(\"path\", \"s3a://input/data/bucket/churn_bucket\") \\\n",
    "    .saveAsTable(\"churn_bucket\")"
   ]
  },
  {
   "cell_type": "code",
   "execution_count": 20,
   "id": "da9fcd9c-e6fe-4e03-b3c4-7f6438c16b96",
   "metadata": {},
   "outputs": [
    {
     "name": "stderr",
     "output_type": "stream",
     "text": [
      "                                                                                \r"
     ]
    }
   ],
   "source": [
    "pop_dict \\\n",
    "    .withColumn(\"area code\", F.col(\"area code\").cast(\"string\")) \\\n",
    "    .repartition(1) \\\n",
    "    .write \\\n",
    "    .bucketBy(100, \"area code\") \\\n",
    "    .option(\"path\", \"s3a://input/data/bucket/pop_bucket\") \\\n",
    "    .saveAsTable(\"pop_bucket\")"
   ]
  },
  {
   "cell_type": "code",
   "execution_count": 21,
   "id": "8d446130",
   "metadata": {},
   "outputs": [],
   "source": [
    "churn_bucket = spark.table(\"churn_bucket\")\n",
    "pop_bucket = spark.table(\"pop_bucket\")"
   ]
  },
  {
   "cell_type": "code",
   "execution_count": 22,
   "id": "42dc61ce",
   "metadata": {},
   "outputs": [],
   "source": [
    "churn_and_pop_bucket = churn_bucket.join(pop_bucket, on=\"area code\", how=\"inner\") \\\n",
    "    .filter(F.col(\"population\") > POP_THRESHOLD)"
   ]
  },
  {
   "cell_type": "code",
   "execution_count": 23,
   "id": "c77aadfd-a5c2-4636-9de1-a0057e90442a",
   "metadata": {},
   "outputs": [
    {
     "name": "stderr",
     "output_type": "stream",
     "text": [
      "                                                                                \r"
     ]
    }
   ],
   "source": [
    "result_bucket = churn_and_pop_bucket.join(state_dict, churn_and_pop_bucket.state==state_dict.state_id, how=\"left\") \\\n",
    "    .groupBy(\"state_name\") \\\n",
    "    .pivot(\"churn\") \\\n",
    "    .agg(F.count(\"*\")) \\\n",
    "    .orderBy(\"state_name\")"
   ]
  },
  {
   "cell_type": "code",
   "execution_count": 24,
   "id": "aa7aef35-f09e-4edd-9cd4-f37af560ff0e",
   "metadata": {},
   "outputs": [
    {
     "name": "stdout",
     "output_type": "stream",
     "text": [
      "== Physical Plan ==\n",
      "*(10) Sort [state_name#72 ASC NULLS FIRST], true, 0\n",
      "+- Exchange rangepartitioning(state_name#72 ASC NULLS FIRST, 200), ENSURE_REQUIREMENTS, [plan_id=1445]\n",
      "   +- *(9) Project [state_name#72, __pivot_count(1) AS `count(1)`#792[0] AS False#793L, __pivot_count(1) AS `count(1)`#792[1] AS True#794L]\n",
      "      +- HashAggregate(keys=[state_name#72], functions=[pivotfirst(churn#648, count(1)#786L, False, True, 0, 0)])\n",
      "         +- Exchange hashpartitioning(state_name#72, 200), ENSURE_REQUIREMENTS, [plan_id=1440]\n",
      "            +- HashAggregate(keys=[state_name#72], functions=[partial_pivotfirst(churn#648, count(1)#786L, False, True, 0, 0)])\n",
      "               +- *(8) HashAggregate(keys=[state_name#72, churn#648], functions=[count(1)])\n",
      "                  +- Exchange hashpartitioning(state_name#72, churn#648, 200), ENSURE_REQUIREMENTS, [plan_id=1435]\n",
      "                     +- *(7) HashAggregate(keys=[state_name#72, churn#648], functions=[partial_count(1)])\n",
      "                        +- *(7) Project [churn#648, state_name#72]\n",
      "                           +- *(7) SortMergeJoin [state#628], [state_id#71], LeftOuter\n",
      "                              :- *(4) Sort [state#628 ASC NULLS FIRST], false, 0\n",
      "                              :  +- Exchange hashpartitioning(state#628, 200), ENSURE_REQUIREMENTS, [plan_id=1418]\n",
      "                              :     +- *(3) Project [state#628, churn#648]\n",
      "                              :        +- *(3) SortMergeJoin [area code#630], [area code#673], Inner\n",
      "                              :           :- *(1) Sort [area code#630 ASC NULLS FIRST], false, 0\n",
      "                              :           :  +- *(1) Filter isnotnull(area code#630)\n",
      "                              :           :     +- *(1) ColumnarToRow\n",
      "                              :           :        +- FileScan parquet spark_catalog.default.churn_bucket[state#628,area code#630,churn#648] Batched: true, Bucketed: true, DataFilters: [isnotnull(area code#630)], Format: Parquet, Location: InMemoryFileIndex(1 paths)[s3a://input/data/bucket/churn_bucket], PartitionFilters: [], PushedFilters: [IsNotNull(`area code`)], ReadSchema: struct<state:string,area code:string,churn:string>, SelectedBucketsCount: 100 out of 100\n",
      "                              :           +- *(2) Sort [area code#673 ASC NULLS FIRST], false, 0\n",
      "                              :              +- *(2) Project [area code#673]\n",
      "                              :                 +- *(2) Filter ((isnotnull(population#674L) AND (population#674L > 10000)) AND isnotnull(area code#673))\n",
      "                              :                    +- *(2) ColumnarToRow\n",
      "                              :                       +- FileScan parquet spark_catalog.default.pop_bucket[area code#673,population#674L] Batched: true, Bucketed: true, DataFilters: [isnotnull(population#674L), (population#674L > 10000), isnotnull(area code#673)], Format: Parquet, Location: InMemoryFileIndex(1 paths)[s3a://input/data/bucket/pop_bucket], PartitionFilters: [], PushedFilters: [IsNotNull(population), GreaterThan(population,10000), IsNotNull(`area code`)], ReadSchema: struct<area code:string,population:bigint>, SelectedBucketsCount: 100 out of 100\n",
      "                              +- *(6) Sort [state_id#71 ASC NULLS FIRST], false, 0\n",
      "                                 +- Exchange hashpartitioning(state_id#71, 200), ENSURE_REQUIREMENTS, [plan_id=1426]\n",
      "                                    +- *(5) Filter isnotnull(state_id#71)\n",
      "                                       +- FileScan json [state_id#71,state_name#72] Batched: false, DataFilters: [isnotnull(state_id#71)], Format: JSON, Location: InMemoryFileIndex(1 paths)[s3a://input/data/state.json], PartitionFilters: [], PushedFilters: [IsNotNull(state_id)], ReadSchema: struct<state_id:string,state_name:string>\n",
      "\n",
      "\n"
     ]
    },
    {
     "name": "stderr",
     "output_type": "stream",
     "text": [
      "[Stage 36:==================================================>   (188 + 2) / 200]\r"
     ]
    },
    {
     "name": "stdout",
     "output_type": "stream",
     "text": [
      "+--------------------+-----+----+\n",
      "|state_name          |False|True|\n",
      "+--------------------+-----+----+\n",
      "|Alabama             |58   |7   |\n",
      "|Alaska              |44   |3   |\n",
      "|Arizona             |53   |4   |\n",
      "|Arkansas            |35   |9   |\n",
      "|California          |21   |8   |\n",
      "|Colorado            |49   |7   |\n",
      "|Connecticut         |56   |8   |\n",
      "|Delaware            |48   |8   |\n",
      "|District of Columbia|43   |4   |\n",
      "|Florida             |45   |8   |\n",
      "|Georgia             |42   |8   |\n",
      "|Hawaii              |42   |3   |\n",
      "|Idaho               |53   |9   |\n",
      "|Illinois            |49   |5   |\n",
      "|Indiana             |59   |9   |\n",
      "|Iowa                |34   |3   |\n",
      "|Kansas              |50   |12  |\n",
      "|Kentucky            |51   |8   |\n",
      "|Louisiana           |47   |4   |\n",
      "|Maine               |49   |13  |\n",
      "+--------------------+-----+----+\n",
      "only showing top 20 rows\n",
      "\n"
     ]
    },
    {
     "name": "stderr",
     "output_type": "stream",
     "text": [
      "                                                                                \r"
     ]
    }
   ],
   "source": [
    "result_bucket.explain()\n",
    "result_bucket.show(truncate=False)"
   ]
  },
  {
   "cell_type": "markdown",
   "id": "c91681ca-4e23-4f36-aee5-e6afdf432395",
   "metadata": {},
   "source": [
    "Видим по плану запроса, что у нас отсутвует shuffle по area code для таблиц pop_bucket и churn_bucket, тем самым мы получили прирост производительсности по времени."
   ]
  },
  {
   "cell_type": "markdown",
   "id": "40f06364",
   "metadata": {},
   "source": [
    "# Задание 2\n",
    "\n",
    "## Входные данные \n",
    "\n",
    "*skew_transactions.csv* - информация о длительности просомтра контента пользователям\n",
    "колонки:\n",
    "1. user_uid — уникальный идентификатор пользователя\n",
    "2. element_uid — уникальный идентификатор контента\n",
    "3. watched_time — время просмотра в секундах\n",
    "\n",
    "*catalogue.json* - каталог с описанием контента и метаинформации по нему\n",
    "колонки:\n",
    "1. type — тип элемента\n",
    "2. duration — длительность в минутах (средняя длительность эпизода в случае с сериалами и многосерийными фильмами), округлённая до десятков\n",
    "3. attributes — анонимизированные атрибуты данного элемента\n",
    "4. availability — доступные права на элемент(subscription, purchase, rent)\n",
    "5. feature_1 — анонимизированная вещественная переменная\n",
    "6. feature_2 — анонимизированная вещественная переменная\n",
    "7. feature_3 — анонимизированная порядковая переменная\n",
    "8. feature_4 — анонимизированная вещественная переменная\n",
    "9. feature_5 — анонимизированная вещественная переменная\n",
    "\n",
    "## Что нужно сделать\n",
    "1. Выполните join основных данных со справочником используя DataFrame API (по колонке id для контента - `element_uid`)\n",
    "2. Описать проблему в датасетах с точки зрения обработки Spark\n",
    "3. Решить задачу любым способом\n",
    "4. Решить задачу с помощью salt-join подхода\n",
    "\n",
    "P.S. Как вы можете заметить при просмотре данных по пользователями, нужный нам ключ для операции будет перекошен (90% строк представлены на фильм, очень популярный среди смотревших) - это нужно доказать в рамках п.2"
   ]
  },
  {
   "cell_type": "markdown",
   "id": "0740055d",
   "metadata": {},
   "source": [
    "### Решение "
   ]
  },
  {
   "cell_type": "code",
   "execution_count": 25,
   "id": "478b7736-7ca2-4aed-9eec-56b0f0a49616",
   "metadata": {},
   "outputs": [
    {
     "name": "stdout",
     "output_type": "stream",
     "text": [
      "Requirement already satisfied: pandas in /usr/local/lib/python3.11/dist-packages (2.2.2)\n",
      "Requirement already satisfied: tzdata>=2022.7 in /usr/local/lib/python3.11/dist-packages (from pandas) (2024.1)\n",
      "Requirement already satisfied: numpy>=1.23.2 in /usr/local/lib/python3.11/dist-packages (from pandas) (2.0.0)\n",
      "Requirement already satisfied: python-dateutil>=2.8.2 in /usr/local/lib/python3.11/dist-packages (from pandas) (2.9.0.post0)\n",
      "Requirement already satisfied: pytz>=2020.1 in /usr/local/lib/python3.11/dist-packages (from pandas) (2024.1)\n",
      "Requirement already satisfied: six>=1.5 in /usr/lib/python3/dist-packages (from python-dateutil>=2.8.2->pandas) (1.16.0)\n",
      "\u001b[33mWARNING: Running pip as the 'root' user can result in broken permissions and conflicting behaviour with the system package manager. It is recommended to use a virtual environment instead: https://pip.pypa.io/warnings/venv\u001b[0m\u001b[33m\n",
      "\u001b[0mNote: you may need to restart the kernel to use updated packages.\n"
     ]
    }
   ],
   "source": [
    "%pip install pandas"
   ]
  },
  {
   "cell_type": "code",
   "execution_count": 26,
   "id": "5e2e8c69",
   "metadata": {},
   "outputs": [],
   "source": [
    "import pandas as pd"
   ]
  },
  {
   "cell_type": "code",
   "execution_count": 27,
   "id": "f21a6177-92eb-4fc7-b3d0-56c99884a99c",
   "metadata": {},
   "outputs": [],
   "source": [
    "skew_df = spark.read.option(\"header\", True).csv(\"s3a://input/data/skew_transactions.csv\")"
   ]
  },
  {
   "cell_type": "code",
   "execution_count": 28,
   "id": "568ab026-99a9-45db-8aca-8fc28de3a1b7",
   "metadata": {},
   "outputs": [],
   "source": [
    "catalogue_df = pd.read_json(\"datasets/catalogue.json\", dtype=str)"
   ]
  },
  {
   "cell_type": "code",
   "execution_count": 29,
   "id": "111b73fb-2822-4b78-ab90-4b4c8342a8de",
   "metadata": {},
   "outputs": [
    {
     "data": {
      "text/html": [
       "<div>\n",
       "<style scoped>\n",
       "    .dataframe tbody tr th:only-of-type {\n",
       "        vertical-align: middle;\n",
       "    }\n",
       "\n",
       "    .dataframe tbody tr th {\n",
       "        vertical-align: top;\n",
       "    }\n",
       "\n",
       "    .dataframe thead th {\n",
       "        text-align: right;\n",
       "    }\n",
       "</style>\n",
       "<table border=\"1\" class=\"dataframe\">\n",
       "  <thead>\n",
       "    <tr style=\"text-align: right;\">\n",
       "      <th></th>\n",
       "      <th>1983</th>\n",
       "      <th>3783</th>\n",
       "      <th>5208</th>\n",
       "      <th>9744</th>\n",
       "      <th>1912</th>\n",
       "      <th>7944</th>\n",
       "      <th>10021</th>\n",
       "      <th>2166</th>\n",
       "      <th>6833</th>\n",
       "      <th>7904</th>\n",
       "      <th>...</th>\n",
       "      <th>7971</th>\n",
       "      <th>4178</th>\n",
       "      <th>9288</th>\n",
       "      <th>8756</th>\n",
       "      <th>598</th>\n",
       "      <th>6643</th>\n",
       "      <th>166</th>\n",
       "      <th>9242</th>\n",
       "      <th>6427</th>\n",
       "      <th>8452</th>\n",
       "    </tr>\n",
       "  </thead>\n",
       "  <tbody>\n",
       "    <tr>\n",
       "      <th>type</th>\n",
       "      <td>movie</td>\n",
       "      <td>movie</td>\n",
       "      <td>movie</td>\n",
       "      <td>movie</td>\n",
       "      <td>movie</td>\n",
       "      <td>movie</td>\n",
       "      <td>movie</td>\n",
       "      <td>movie</td>\n",
       "      <td>movie</td>\n",
       "      <td>movie</td>\n",
       "      <td>...</td>\n",
       "      <td>series</td>\n",
       "      <td>series</td>\n",
       "      <td>series</td>\n",
       "      <td>series</td>\n",
       "      <td>series</td>\n",
       "      <td>series</td>\n",
       "      <td>series</td>\n",
       "      <td>series</td>\n",
       "      <td>series</td>\n",
       "      <td>series</td>\n",
       "    </tr>\n",
       "    <tr>\n",
       "      <th>availability</th>\n",
       "      <td>['purchase', 'rent', 'subscription']</td>\n",
       "      <td>['purchase', 'rent', 'subscription']</td>\n",
       "      <td>['purchase', 'rent', 'subscription']</td>\n",
       "      <td>['purchase', 'rent', 'subscription']</td>\n",
       "      <td>['purchase', 'rent']</td>\n",
       "      <td>['purchase', 'rent', 'subscription']</td>\n",
       "      <td>[]</td>\n",
       "      <td>[]</td>\n",
       "      <td>[]</td>\n",
       "      <td>['purchase', 'rent', 'subscription']</td>\n",
       "      <td>...</td>\n",
       "      <td>['purchase']</td>\n",
       "      <td>['subscription']</td>\n",
       "      <td>['subscription']</td>\n",
       "      <td>['subscription']</td>\n",
       "      <td>['subscription']</td>\n",
       "      <td>['purchase', 'subscription']</td>\n",
       "      <td>['subscription']</td>\n",
       "      <td>['purchase']</td>\n",
       "      <td>['subscription']</td>\n",
       "      <td>['subscription']</td>\n",
       "    </tr>\n",
       "    <tr>\n",
       "      <th>duration</th>\n",
       "      <td>140</td>\n",
       "      <td>110</td>\n",
       "      <td>90</td>\n",
       "      <td>120</td>\n",
       "      <td>110</td>\n",
       "      <td>110</td>\n",
       "      <td>110</td>\n",
       "      <td>90</td>\n",
       "      <td>90</td>\n",
       "      <td>120</td>\n",
       "      <td>...</td>\n",
       "      <td>20</td>\n",
       "      <td>30</td>\n",
       "      <td>30</td>\n",
       "      <td>60</td>\n",
       "      <td>50</td>\n",
       "      <td>50</td>\n",
       "      <td>30</td>\n",
       "      <td>40</td>\n",
       "      <td>30</td>\n",
       "      <td>40</td>\n",
       "    </tr>\n",
       "    <tr>\n",
       "      <th>feature_1</th>\n",
       "      <td>1657223.396513469</td>\n",
       "      <td>35565207.694893226</td>\n",
       "      <td>13270676.52431015</td>\n",
       "      <td>21749917.409822803</td>\n",
       "      <td>9212963.985682394</td>\n",
       "      <td>13214708.075501492</td>\n",
       "      <td>9045058.639256418</td>\n",
       "      <td>14918550.088817373</td>\n",
       "      <td>5589006.925321744</td>\n",
       "      <td>32362003.812979225</td>\n",
       "      <td>...</td>\n",
       "      <td>36693573.4048775</td>\n",
       "      <td>37810096.832399</td>\n",
       "      <td>38399364.92104859</td>\n",
       "      <td>41914615.73942064</td>\n",
       "      <td>43126613.14615511</td>\n",
       "      <td>42570403.52787781</td>\n",
       "      <td>43067650.320556894</td>\n",
       "      <td>25423401.689006824</td>\n",
       "      <td>13452573.982938292</td>\n",
       "      <td>38450199.365910105</td>\n",
       "    </tr>\n",
       "    <tr>\n",
       "      <th>feature_2</th>\n",
       "      <td>0.7536096584</td>\n",
       "      <td>0.7662537759</td>\n",
       "      <td>0.7654246597000001</td>\n",
       "      <td>0.7578744427</td>\n",
       "      <td>0.7595661572</td>\n",
       "      <td>0.7536096584</td>\n",
       "      <td>0.7378191549</td>\n",
       "      <td>0.7044612684</td>\n",
       "      <td>0.7510260541</td>\n",
       "      <td>0.7029805793</td>\n",
       "      <td>...</td>\n",
       "      <td>0.7863780695</td>\n",
       "      <td>0.7536096584</td>\n",
       "      <td>0.7492931785</td>\n",
       "      <td>0.74050001</td>\n",
       "      <td>0.74050001</td>\n",
       "      <td>0.7662537759</td>\n",
       "      <td>0.6929487826</td>\n",
       "      <td>0.6514504811</td>\n",
       "      <td>0.7662537759</td>\n",
       "      <td>0.6929487826</td>\n",
       "    </tr>\n",
       "  </tbody>\n",
       "</table>\n",
       "<p>5 rows × 10200 columns</p>\n",
       "</div>"
      ],
      "text/plain": [
       "                                             1983   \\\n",
       "type                                         movie   \n",
       "availability  ['purchase', 'rent', 'subscription']   \n",
       "duration                                       140   \n",
       "feature_1                        1657223.396513469   \n",
       "feature_2                             0.7536096584   \n",
       "\n",
       "                                             3783   \\\n",
       "type                                         movie   \n",
       "availability  ['purchase', 'rent', 'subscription']   \n",
       "duration                                       110   \n",
       "feature_1                       35565207.694893226   \n",
       "feature_2                             0.7662537759   \n",
       "\n",
       "                                             5208   \\\n",
       "type                                         movie   \n",
       "availability  ['purchase', 'rent', 'subscription']   \n",
       "duration                                        90   \n",
       "feature_1                        13270676.52431015   \n",
       "feature_2                       0.7654246597000001   \n",
       "\n",
       "                                             9744                  1912   \\\n",
       "type                                         movie                 movie   \n",
       "availability  ['purchase', 'rent', 'subscription']  ['purchase', 'rent']   \n",
       "duration                                       120                   110   \n",
       "feature_1                       21749917.409822803     9212963.985682394   \n",
       "feature_2                             0.7578744427          0.7595661572   \n",
       "\n",
       "                                             7944               10021  \\\n",
       "type                                         movie              movie   \n",
       "availability  ['purchase', 'rent', 'subscription']                 []   \n",
       "duration                                       110                110   \n",
       "feature_1                       13214708.075501492  9045058.639256418   \n",
       "feature_2                             0.7536096584       0.7378191549   \n",
       "\n",
       "                           2166               6833   \\\n",
       "type                       movie              movie   \n",
       "availability                  []                 []   \n",
       "duration                      90                 90   \n",
       "feature_1     14918550.088817373  5589006.925321744   \n",
       "feature_2           0.7044612684       0.7510260541   \n",
       "\n",
       "                                             7904   ...             7971   \\\n",
       "type                                         movie  ...            series   \n",
       "availability  ['purchase', 'rent', 'subscription']  ...      ['purchase']   \n",
       "duration                                       120  ...                20   \n",
       "feature_1                       32362003.812979225  ...  36693573.4048775   \n",
       "feature_2                             0.7029805793  ...      0.7863780695   \n",
       "\n",
       "                         4178               9288               8756   \\\n",
       "type                    series             series             series   \n",
       "availability  ['subscription']   ['subscription']   ['subscription']   \n",
       "duration                    30                 30                 60   \n",
       "feature_1      37810096.832399  38399364.92104859  41914615.73942064   \n",
       "feature_2         0.7536096584       0.7492931785         0.74050001   \n",
       "\n",
       "                          598                           6643   \\\n",
       "type                     series                        series   \n",
       "availability   ['subscription']  ['purchase', 'subscription']   \n",
       "duration                     50                            50   \n",
       "feature_1     43126613.14615511             42570403.52787781   \n",
       "feature_2            0.74050001                  0.7662537759   \n",
       "\n",
       "                           166                 9242                6427   \\\n",
       "type                      series              series              series   \n",
       "availability    ['subscription']        ['purchase']    ['subscription']   \n",
       "duration                      30                  40                  30   \n",
       "feature_1     43067650.320556894  25423401.689006824  13452573.982938292   \n",
       "feature_2           0.6929487826        0.6514504811        0.7662537759   \n",
       "\n",
       "                           8452   \n",
       "type                      series  \n",
       "availability    ['subscription']  \n",
       "duration                      40  \n",
       "feature_1     38450199.365910105  \n",
       "feature_2           0.6929487826  \n",
       "\n",
       "[5 rows x 10200 columns]"
      ]
     },
     "execution_count": 29,
     "metadata": {},
     "output_type": "execute_result"
    }
   ],
   "source": [
    "catalogue_df.head(5)"
   ]
  },
  {
   "cell_type": "code",
   "execution_count": 30,
   "id": "27137082-dbd6-4d0f-b395-ae94975c522d",
   "metadata": {},
   "outputs": [],
   "source": [
    "#транспонируем датафрейм и также индекс обозначим как столбец element_uid\n",
    "\n",
    "catalogue_df = catalogue_df.transpose().reset_index()\n",
    "catalogue_df = catalogue_df.rename(columns={\"index\": \"element_uid\"})\n"
   ]
  },
  {
   "cell_type": "code",
   "execution_count": 31,
   "id": "872ba115-5065-4ef2-b8b0-defafeb470c0",
   "metadata": {},
   "outputs": [
    {
     "data": {
      "text/html": [
       "<div>\n",
       "<style scoped>\n",
       "    .dataframe tbody tr th:only-of-type {\n",
       "        vertical-align: middle;\n",
       "    }\n",
       "\n",
       "    .dataframe tbody tr th {\n",
       "        vertical-align: top;\n",
       "    }\n",
       "\n",
       "    .dataframe thead th {\n",
       "        text-align: right;\n",
       "    }\n",
       "</style>\n",
       "<table border=\"1\" class=\"dataframe\">\n",
       "  <thead>\n",
       "    <tr style=\"text-align: right;\">\n",
       "      <th></th>\n",
       "      <th>element_uid</th>\n",
       "      <th>type</th>\n",
       "      <th>availability</th>\n",
       "      <th>duration</th>\n",
       "      <th>feature_1</th>\n",
       "      <th>feature_2</th>\n",
       "      <th>feature_3</th>\n",
       "      <th>feature_4</th>\n",
       "      <th>feature_5</th>\n",
       "      <th>attributes</th>\n",
       "    </tr>\n",
       "  </thead>\n",
       "  <tbody>\n",
       "    <tr>\n",
       "      <th>0</th>\n",
       "      <td>1983</td>\n",
       "      <td>movie</td>\n",
       "      <td>['purchase', 'rent', 'subscription']</td>\n",
       "      <td>140</td>\n",
       "      <td>1657223.396513469</td>\n",
       "      <td>0.7536096584</td>\n",
       "      <td>39</td>\n",
       "      <td>1.1194091265</td>\n",
       "      <td>0.0</td>\n",
       "      <td>[1, 2, 3, 4, 5, 6, 7, 8, 9, 10, 11, 12, 13, 14...</td>\n",
       "    </tr>\n",
       "    <tr>\n",
       "      <th>1</th>\n",
       "      <td>3783</td>\n",
       "      <td>movie</td>\n",
       "      <td>['purchase', 'rent', 'subscription']</td>\n",
       "      <td>110</td>\n",
       "      <td>35565207.694893226</td>\n",
       "      <td>0.7662537759</td>\n",
       "      <td>41</td>\n",
       "      <td>1.1386044027</td>\n",
       "      <td>0.6547073468</td>\n",
       "      <td>[1, 26, 27, 28, 29, 7, 30, 31, 32, 10, 14, 15,...</td>\n",
       "    </tr>\n",
       "    <tr>\n",
       "      <th>2</th>\n",
       "      <td>5208</td>\n",
       "      <td>movie</td>\n",
       "      <td>['purchase', 'rent', 'subscription']</td>\n",
       "      <td>90</td>\n",
       "      <td>13270676.52431015</td>\n",
       "      <td>0.7654246597000001</td>\n",
       "      <td>27</td>\n",
       "      <td>1.1318073548</td>\n",
       "      <td>0.5927161087</td>\n",
       "      <td>[1, 38, 39, 40, 7, 41, 42, 43, 14, 15, 17, 18,...</td>\n",
       "    </tr>\n",
       "    <tr>\n",
       "      <th>3</th>\n",
       "      <td>9744</td>\n",
       "      <td>movie</td>\n",
       "      <td>['purchase', 'rent', 'subscription']</td>\n",
       "      <td>120</td>\n",
       "      <td>21749917.409822803</td>\n",
       "      <td>0.7578744427</td>\n",
       "      <td>26</td>\n",
       "      <td>1.1335254517</td>\n",
       "      <td>0.6547073468</td>\n",
       "      <td>[1, 47, 48, 49, 50, 51, 52, 53, 32, 42, 54, 14...</td>\n",
       "    </tr>\n",
       "    <tr>\n",
       "      <th>4</th>\n",
       "      <td>1912</td>\n",
       "      <td>movie</td>\n",
       "      <td>['purchase', 'rent']</td>\n",
       "      <td>110</td>\n",
       "      <td>9212963.985682394</td>\n",
       "      <td>0.7595661572</td>\n",
       "      <td>7</td>\n",
       "      <td>1.1101274384</td>\n",
       "      <td>0.6547073468</td>\n",
       "      <td>[1, 59, 60, 61, 62, 7, 52, 63, 10, 42, 54, 17,...</td>\n",
       "    </tr>\n",
       "  </tbody>\n",
       "</table>\n",
       "</div>"
      ],
      "text/plain": [
       "   element_uid   type                          availability duration  \\\n",
       "0         1983  movie  ['purchase', 'rent', 'subscription']      140   \n",
       "1         3783  movie  ['purchase', 'rent', 'subscription']      110   \n",
       "2         5208  movie  ['purchase', 'rent', 'subscription']       90   \n",
       "3         9744  movie  ['purchase', 'rent', 'subscription']      120   \n",
       "4         1912  movie                  ['purchase', 'rent']      110   \n",
       "\n",
       "            feature_1           feature_2 feature_3     feature_4  \\\n",
       "0   1657223.396513469        0.7536096584        39  1.1194091265   \n",
       "1  35565207.694893226        0.7662537759        41  1.1386044027   \n",
       "2   13270676.52431015  0.7654246597000001        27  1.1318073548   \n",
       "3  21749917.409822803        0.7578744427        26  1.1335254517   \n",
       "4   9212963.985682394        0.7595661572         7  1.1101274384   \n",
       "\n",
       "      feature_5                                         attributes  \n",
       "0           0.0  [1, 2, 3, 4, 5, 6, 7, 8, 9, 10, 11, 12, 13, 14...  \n",
       "1  0.6547073468  [1, 26, 27, 28, 29, 7, 30, 31, 32, 10, 14, 15,...  \n",
       "2  0.5927161087  [1, 38, 39, 40, 7, 41, 42, 43, 14, 15, 17, 18,...  \n",
       "3  0.6547073468  [1, 47, 48, 49, 50, 51, 52, 53, 32, 42, 54, 14...  \n",
       "4  0.6547073468  [1, 59, 60, 61, 62, 7, 52, 63, 10, 42, 54, 17,...  "
      ]
     },
     "execution_count": 31,
     "metadata": {},
     "output_type": "execute_result"
    }
   ],
   "source": [
    "catalogue_df.head(5)"
   ]
  },
  {
   "cell_type": "code",
   "execution_count": 32,
   "id": "77c57789-2837-4a93-aad6-bae5c16ef6d0",
   "metadata": {},
   "outputs": [
    {
     "data": {
      "text/plain": [
       "element_uid\n",
       "1983     1\n",
       "10053    1\n",
       "2784     1\n",
       "6768     1\n",
       "4798     1\n",
       "        ..\n",
       "248      1\n",
       "5937     1\n",
       "6737     1\n",
       "8970     1\n",
       "8452     1\n",
       "Name: count, Length: 10200, dtype: int64"
      ]
     },
     "execution_count": 32,
     "metadata": {},
     "output_type": "execute_result"
    }
   ],
   "source": [
    "#посмотрим на уникальные значения\n",
    "catalogue_df[\"element_uid\"].value_counts(ascending=False)"
   ]
  },
  {
   "cell_type": "code",
   "execution_count": 33,
   "id": "1b5d6131-1901-487f-907e-3416879120ac",
   "metadata": {},
   "outputs": [],
   "source": [
    "catalogue_df = spark.createDataFrame(catalogue_df)"
   ]
  },
  {
   "cell_type": "code",
   "execution_count": 34,
   "id": "6f375b0a-12be-4c57-a790-2a6d2944d940",
   "metadata": {},
   "outputs": [
    {
     "name": "stdout",
     "output_type": "stream",
     "text": [
      "+-----------+--------+------------+\n",
      "|element_uid|user_uid|watched_time|\n",
      "+-----------+--------+------------+\n",
      "|       6130|  563180|        3264|\n",
      "|       2771|  133315|       10557|\n",
      "|        984|  290104|        6845|\n",
      "|       6980|  385385|        2734|\n",
      "|       2714|  408794|        7583|\n",
      "+-----------+--------+------------+\n",
      "only showing top 5 rows\n",
      "\n"
     ]
    }
   ],
   "source": [
    "skew_df.show(5)"
   ]
  },
  {
   "cell_type": "code",
   "execution_count": 35,
   "id": "cb9cfbfb-c6f7-4686-bbf8-7066cf741ddd",
   "metadata": {},
   "outputs": [
    {
     "name": "stderr",
     "output_type": "stream",
     "text": [
      "[Stage 41:=============================>                            (1 + 1) / 2]\r"
     ]
    },
    {
     "name": "stdout",
     "output_type": "stream",
     "text": [
      "+-----------+-------+\n",
      "|element_uid|  count|\n",
      "+-----------+-------+\n",
      "|       2714|2732800|\n",
      "|        747|  61272|\n",
      "|      10170|    299|\n",
      "|       9898|    299|\n",
      "|       9837|    299|\n",
      "+-----------+-------+\n",
      "only showing top 5 rows\n",
      "\n"
     ]
    },
    {
     "name": "stderr",
     "output_type": "stream",
     "text": [
      "                                                                                \r"
     ]
    }
   ],
   "source": [
    "#также посмотрим на униклаьные значения element_uid, чтобы увидеть что распределение столбца element_uid перекошено\n",
    "skew_df.groupBy(\"element_uid\").count().orderBy(F.col(\"count\").desc()).show(5)"
   ]
  },
  {
   "cell_type": "code",
   "execution_count": 36,
   "id": "3db3993c-0cfe-4ded-80de-66af5c0098fa",
   "metadata": {},
   "outputs": [],
   "source": [
    "result = skew_df.join(catalogue_df.select(\"element_uid\", \"type\", \"availability\", \"duration\"), on=\"element_uid\", how=\"left\")"
   ]
  },
  {
   "cell_type": "code",
   "execution_count": 37,
   "id": "df30c61d",
   "metadata": {},
   "outputs": [
    {
     "name": "stdout",
     "output_type": "stream",
     "text": [
      "== Physical Plan ==\n",
      "*(4) Project [element_uid#860, user_uid#861, watched_time#862, type#867, availability#868, duration#869]\n",
      "+- *(4) SortMergeJoin [cast(element_uid#860 as bigint)], [element_uid#866L], LeftOuter\n",
      "   :- *(1) Sort [cast(element_uid#860 as bigint) ASC NULLS FIRST], false, 0\n",
      "   :  +- Exchange hashpartitioning(cast(element_uid#860 as bigint), 200), ENSURE_REQUIREMENTS, [plan_id=1823]\n",
      "   :     +- FileScan csv [element_uid#860,user_uid#861,watched_time#862] Batched: false, DataFilters: [], Format: CSV, Location: InMemoryFileIndex(1 paths)[s3a://input/data/skew_transactions.csv], PartitionFilters: [], PushedFilters: [], ReadSchema: struct<element_uid:string,user_uid:string,watched_time:string>\n",
      "   +- *(3) Sort [element_uid#866L ASC NULLS FIRST], false, 0\n",
      "      +- Exchange hashpartitioning(element_uid#866L, 200), ENSURE_REQUIREMENTS, [plan_id=1834]\n",
      "         +- *(2) Project [element_uid#866L, type#867, availability#868, duration#869]\n",
      "            +- *(2) Filter isnotnull(element_uid#866L)\n",
      "               +- *(2) Scan ExistingRDD[element_uid#866L,type#867,availability#868,duration#869,feature_1#870,feature_2#871,feature_3#872,feature_4#873,feature_5#874,attributes#875]\n",
      "\n",
      "\n"
     ]
    },
    {
     "name": "stderr",
     "output_type": "stream",
     "text": [
      "24/07/11 17:46:05 WARN TaskSetManager: Stage 44 contains a task of very large size (1035 KiB). The maximum recommended task size is 1000 KiB.\n",
      "                                                                                \r"
     ]
    },
    {
     "name": "stdout",
     "output_type": "stream",
     "text": [
      "+-----------+--------+------------+-----+------------------------------------+--------+\n",
      "|element_uid|user_uid|watched_time|type |availability                        |duration|\n",
      "+-----------+--------+------------+-----+------------------------------------+--------+\n",
      "|6130       |563180  |3264        |movie|['purchase', 'rent']                |90      |\n",
      "|2714       |408794  |7583        |movie|['purchase', 'rent', 'subscription']|130     |\n",
      "|2714       |247546  |4450        |movie|['purchase', 'rent', 'subscription']|130     |\n",
      "|2714       |43556   |7569        |movie|['purchase', 'rent', 'subscription']|130     |\n",
      "|2714       |169048  |7577        |movie|['purchase', 'rent', 'subscription']|130     |\n",
      "|2714       |542158  |8834        |movie|['purchase', 'rent', 'subscription']|130     |\n",
      "|2714       |356858  |7763        |movie|['purchase', 'rent', 'subscription']|130     |\n",
      "|2714       |277533  |4781        |movie|['purchase', 'rent', 'subscription']|130     |\n",
      "|2714       |345703  |7639        |movie|['purchase', 'rent', 'subscription']|130     |\n",
      "|2714       |479550  |7710        |movie|['purchase', 'rent', 'subscription']|130     |\n",
      "|2714       |590153  |7923        |movie|['purchase', 'rent', 'subscription']|130     |\n",
      "|2714       |343066  |268         |movie|['purchase', 'rent', 'subscription']|130     |\n",
      "|2714       |57572   |7616        |movie|['purchase', 'rent', 'subscription']|130     |\n",
      "|2714       |452625  |22107       |movie|['purchase', 'rent', 'subscription']|130     |\n",
      "|2714       |194183  |6430        |movie|['purchase', 'rent', 'subscription']|130     |\n",
      "|2714       |537894  |7716        |movie|['purchase', 'rent', 'subscription']|130     |\n",
      "|2714       |284981  |7586        |movie|['purchase', 'rent', 'subscription']|130     |\n",
      "|2714       |65250   |7903        |movie|['purchase', 'rent', 'subscription']|130     |\n",
      "|2714       |461130  |7934        |movie|['purchase', 'rent', 'subscription']|130     |\n",
      "|2714       |381351  |1238        |movie|['purchase', 'rent', 'subscription']|130     |\n",
      "+-----------+--------+------------+-----+------------------------------------+--------+\n",
      "only showing top 20 rows\n",
      "\n"
     ]
    }
   ],
   "source": [
    "result.explain()\n",
    "result.show(truncate=False)"
   ]
  },
  {
   "cell_type": "markdown",
   "id": "0666db5d-22b9-49a1-81d3-63bda36a0a47",
   "metadata": {},
   "source": [
    "Как видно по плану у нас выполняется дефолтный sort merge join, мы имеем shuffle, а с учетом перекоса ключа есть следующие проблемы:\n",
    "* **Излишняя нагрузка на некоторые узлы**: В sort-merge join данные должны быть отсортированы и объединены по ключам. Если ключи распределены неравномерно, узлы, отвечающие за частые ключи, получат больше данных для обработки. Это приводит к дисбалансу нагрузки(судя по spark ui timeline), когда некоторые узлы будут перегружены, становясь узкими местами (bottlenecks), а другие будут простаивать.\n",
    "* **Использование памяти в режиме memory spill**: Не в данном кейсе, но в целом, перегруженные узлы могут исчерпать доступную память из-за большого объема данных, что может привести к сбоям или необходимости использования дискового пространства для выполнения операций, что замедляет процесс.\n",
    "* **Большое количество операций shuffle**: Операция происходит между узлами, что прямо сказывается на производительсности и скорости выполенения"
   ]
  },
  {
   "cell_type": "markdown",
   "id": "108c868f",
   "metadata": {},
   "source": [
    "### Решение с оптимизацией - broadcast hash join\n",
    "Опять же поскольку одна из таблиц, а конкретнее catalogue_df у нас 2.7Mb < 10Mb (смотрел в хранилище minio, не отрицаю возможно есть более релевантный способ), то мы можем использовать broadcast hash join чтобы избежать лишнего shuffle и следовательно лишнего сетевого взаимодействия"
   ]
  },
  {
   "cell_type": "code",
   "execution_count": 38,
   "id": "6445a89e",
   "metadata": {},
   "outputs": [],
   "source": [
    "catalogue_broad = F.broadcast(catalogue_df)\n",
    "skew_repartition = skew_df.repartition(5)"
   ]
  },
  {
   "cell_type": "code",
   "execution_count": 39,
   "id": "c875e042",
   "metadata": {},
   "outputs": [],
   "source": [
    "result_broad = skew_repartition.join(catalogue_broad.select(\"element_uid\", \"type\", \"availability\", \"duration\"), on=\"element_uid\", how=\"left\")"
   ]
  },
  {
   "cell_type": "code",
   "execution_count": 40,
   "id": "07a6cecc",
   "metadata": {},
   "outputs": [
    {
     "name": "stdout",
     "output_type": "stream",
     "text": [
      "== Physical Plan ==\n",
      "*(2) Project [element_uid#860, user_uid#861, watched_time#862, type#867, availability#868, duration#869]\n",
      "+- *(2) BroadcastHashJoin [cast(element_uid#860 as bigint)], [element_uid#866L], LeftOuter, BuildRight, false\n",
      "   :- Exchange RoundRobinPartitioning(5), REPARTITION_BY_NUM, [plan_id=1944]\n",
      "   :  +- FileScan csv [element_uid#860,user_uid#861,watched_time#862] Batched: false, DataFilters: [], Format: CSV, Location: InMemoryFileIndex(1 paths)[s3a://input/data/skew_transactions.csv], PartitionFilters: [], PushedFilters: [], ReadSchema: struct<element_uid:string,user_uid:string,watched_time:string>\n",
      "   +- BroadcastExchange HashedRelationBroadcastMode(List(input[0, bigint, true]),false), [plan_id=1955]\n",
      "      +- *(1) Project [element_uid#866L, type#867, availability#868, duration#869]\n",
      "         +- *(1) Filter isnotnull(element_uid#866L)\n",
      "            +- *(1) Scan ExistingRDD[element_uid#866L,type#867,availability#868,duration#869,feature_1#870,feature_2#871,feature_3#872,feature_4#873,feature_5#874,attributes#875]\n",
      "\n",
      "\n"
     ]
    },
    {
     "name": "stderr",
     "output_type": "stream",
     "text": [
      "24/07/11 17:46:07 WARN TaskSetManager: Stage 55 contains a task of very large size (1035 KiB). The maximum recommended task size is 1000 KiB.\n",
      "[Stage 56:>                                                         (0 + 2) / 2]\r"
     ]
    },
    {
     "name": "stdout",
     "output_type": "stream",
     "text": [
      "+-----------+--------+------------+---------------+------------------------------------+--------+\n",
      "|element_uid|user_uid|watched_time|type           |availability                        |duration|\n",
      "+-----------+--------+------------+---------------+------------------------------------+--------+\n",
      "|528        |277909  |1263        |movie          |['purchase', 'rent', 'subscription']|120     |\n",
      "|2714       |482595  |7733        |movie          |['purchase', 'rent', 'subscription']|130     |\n",
      "|2714       |482595  |7733        |movie          |['purchase', 'rent', 'subscription']|130     |\n",
      "|2714       |482595  |7733        |movie          |['purchase', 'rent', 'subscription']|130     |\n",
      "|2714       |482595  |7733        |movie          |['purchase', 'rent', 'subscription']|130     |\n",
      "|7594       |442511  |2838        |movie          |['purchase', 'rent', 'subscription']|60      |\n",
      "|2714       |457718  |841         |movie          |['purchase', 'rent', 'subscription']|130     |\n",
      "|2714       |457718  |841         |movie          |['purchase', 'rent', 'subscription']|130     |\n",
      "|2714       |457718  |841         |movie          |['purchase', 'rent', 'subscription']|130     |\n",
      "|2714       |457718  |841         |movie          |['purchase', 'rent', 'subscription']|130     |\n",
      "|8901       |491084  |5914        |movie          |['purchase', 'rent', 'subscription']|110     |\n",
      "|2714       |77796   |7722        |movie          |['purchase', 'rent', 'subscription']|130     |\n",
      "|2714       |77796   |7722        |movie          |['purchase', 'rent', 'subscription']|130     |\n",
      "|2714       |77796   |7722        |movie          |['purchase', 'rent', 'subscription']|130     |\n",
      "|2714       |77796   |7722        |movie          |['purchase', 'rent', 'subscription']|130     |\n",
      "|8716       |232612  |6022        |movie          |['purchase', 'rent', 'subscription']|110     |\n",
      "|2428       |234237  |6385        |movie          |['purchase', 'rent']                |110     |\n",
      "|4107       |320842  |2343        |multipart_movie|['purchase', 'rent', 'subscription']|10      |\n",
      "|1499       |374862  |236         |movie          |['purchase', 'rent', 'subscription']|60      |\n",
      "|747        |476680  |7705        |movie          |['purchase', 'rent', 'subscription']|120     |\n",
      "+-----------+--------+------------+---------------+------------------------------------+--------+\n",
      "only showing top 20 rows\n",
      "\n"
     ]
    },
    {
     "name": "stderr",
     "output_type": "stream",
     "text": [
      "                                                                                \r"
     ]
    }
   ],
   "source": [
    "result_broad.explain()\n",
    "result_broad.show(truncate=False)"
   ]
  },
  {
   "cell_type": "markdown",
   "id": "bd280877-33b7-4708-9e85-2c792cfef037",
   "metadata": {},
   "source": [
    "Мы получили прирост производительности:\n",
    "* было - 2с\n",
    "* стало - 0.5с\n",
    "Конечно кидает warning, но в данной задаче он прям не критичен. Мы избегаем этап shuffle."
   ]
  },
  {
   "cell_type": "markdown",
   "id": "f52e7ce2-d098-47e5-a532-7527ad72451d",
   "metadata": {},
   "source": [
    "### Решение с оптимизацией - salting"
   ]
  },
  {
   "cell_type": "code",
   "execution_count": 41,
   "id": "aa0ee170-ac6a-4690-9640-a5685d6f42bd",
   "metadata": {},
   "outputs": [],
   "source": [
    "def data_skew_helper(left, right, key, number_of_partitions, how=\"inner\"):\n",
    "    #generate random salt for left dataframe\n",
    "    salt_value = F.lit(F.rand() * number_of_partitions % number_of_partitions).cast(\"int\")\n",
    "    left = left.withColumn(\"salt\", salt_value)\n",
    "\n",
    "    #Creating a column with an array of all possible salt values for right dataframe\n",
    "    salt_col = F.explode(F.array([F.lit(i) for i in range(number_of_partitions)])).alias(\"salt\")\n",
    "    right = right.select(\"*\",  salt_col)\n",
    "\n",
    "    return left.join(right, [key, \"salt\"], how)"
   ]
  },
  {
   "cell_type": "code",
   "execution_count": 42,
   "id": "4ce214c3-63cb-45f5-bfde-72da9eb9b846",
   "metadata": {},
   "outputs": [],
   "source": [
    "result_salt = data_skew_helper(skew_df, catalogue_df.select(\"element_uid\", \"type\", \"availability\", \"duration\"), \"element_uid\", 5, how=\"left\")"
   ]
  },
  {
   "cell_type": "code",
   "execution_count": 43,
   "id": "1ba801a0-c72d-4515-b864-a0bf959503f1",
   "metadata": {},
   "outputs": [
    {
     "name": "stdout",
     "output_type": "stream",
     "text": [
      "== Physical Plan ==\n",
      "*(5) Project [element_uid#860, salt#1002, user_uid#861, watched_time#862, type#867, availability#868, duration#869]\n",
      "+- *(5) SortMergeJoin [cast(element_uid#860 as bigint), salt#1002], [element_uid#866L, salt#1008], LeftOuter\n",
      "   :- *(2) Sort [cast(element_uid#860 as bigint) ASC NULLS FIRST, salt#1002 ASC NULLS FIRST], false, 0\n",
      "   :  +- Exchange hashpartitioning(cast(element_uid#860 as bigint), salt#1002, 200), ENSURE_REQUIREMENTS, [plan_id=2064]\n",
      "   :     +- *(1) Project [element_uid#860, user_uid#861, watched_time#862, cast(((rand(4144267069676422802) * 5.0) % 5.0) as int) AS salt#1002]\n",
      "   :        +- FileScan csv [element_uid#860,user_uid#861,watched_time#862] Batched: false, DataFilters: [], Format: CSV, Location: InMemoryFileIndex(1 paths)[s3a://input/data/skew_transactions.csv], PartitionFilters: [], PushedFilters: [], ReadSchema: struct<element_uid:string,user_uid:string,watched_time:string>\n",
      "   +- *(4) Sort [element_uid#866L ASC NULLS FIRST, salt#1008 ASC NULLS FIRST], false, 0\n",
      "      +- Exchange hashpartitioning(element_uid#866L, salt#1008, 200), ENSURE_REQUIREMENTS, [plan_id=2070]\n",
      "         +- *(3) Generate explode([0,1,2,3,4]), [element_uid#866L, type#867, availability#868, duration#869], false, [salt#1008]\n",
      "            +- *(3) Project [element_uid#866L, type#867, availability#868, duration#869]\n",
      "               +- *(3) Filter isnotnull(element_uid#866L)\n",
      "                  +- *(3) Scan ExistingRDD[element_uid#866L,type#867,availability#868,duration#869,feature_1#870,feature_2#871,feature_3#872,feature_4#873,feature_5#874,attributes#875]\n",
      "\n",
      "\n"
     ]
    },
    {
     "name": "stderr",
     "output_type": "stream",
     "text": [
      "24/07/11 17:46:10 WARN TaskSetManager: Stage 58 contains a task of very large size (1035 KiB). The maximum recommended task size is 1000 KiB.\n"
     ]
    },
    {
     "name": "stdout",
     "output_type": "stream",
     "text": [
      "+-----------+----+--------+------------+---------------+------------------------------------+--------+\n",
      "|element_uid|salt|user_uid|watched_time|type           |availability                        |duration|\n",
      "+-----------+----+--------+------------+---------------+------------------------------------+--------+\n",
      "|2692       |1   |167038  |0           |multipart_movie|['purchase', 'rent', 'subscription']|60      |\n",
      "|2714       |2   |408794  |7583        |movie          |['purchase', 'rent', 'subscription']|130     |\n",
      "|2714       |2   |169048  |7577        |movie          |['purchase', 'rent', 'subscription']|130     |\n",
      "|2714       |2   |356858  |7763        |movie          |['purchase', 'rent', 'subscription']|130     |\n",
      "|2714       |2   |345703  |7639        |movie          |['purchase', 'rent', 'subscription']|130     |\n",
      "|2714       |2   |343066  |268         |movie          |['purchase', 'rent', 'subscription']|130     |\n",
      "|2714       |2   |57572   |7616        |movie          |['purchase', 'rent', 'subscription']|130     |\n",
      "|2714       |2   |381351  |1238        |movie          |['purchase', 'rent', 'subscription']|130     |\n",
      "|6757       |4   |522509  |20081       |series         |['subscription']                    |40      |\n",
      "|9149       |4   |390071  |82          |movie          |['purchase', 'rent', 'subscription']|90      |\n",
      "|6645       |1   |151150  |3032        |multipart_movie|[]                                  |60      |\n",
      "|7423       |3   |93339   |170         |movie          |['purchase', 'rent', 'subscription']|80      |\n",
      "|10012      |0   |347241  |10379       |movie          |['purchase', 'rent']                |100     |\n",
      "|9324       |3   |300486  |597         |movie          |['subscription']                    |40      |\n",
      "|2095       |2   |238764  |32          |series         |['purchase', 'subscription']        |50      |\n",
      "|2714       |3   |452625  |22107       |movie          |['purchase', 'rent', 'subscription']|130     |\n",
      "|2714       |3   |194183  |6430        |movie          |['purchase', 'rent', 'subscription']|130     |\n",
      "|2714       |3   |284981  |7586        |movie          |['purchase', 'rent', 'subscription']|130     |\n",
      "|2714       |3   |205057  |7959        |movie          |['purchase', 'rent', 'subscription']|130     |\n",
      "|2714       |3   |21547   |4208        |movie          |['purchase', 'rent', 'subscription']|130     |\n",
      "+-----------+----+--------+------------+---------------+------------------------------------+--------+\n",
      "only showing top 20 rows\n",
      "\n"
     ]
    }
   ],
   "source": [
    "result_salt.explain()\n",
    "result_salt.show(truncate=False)"
   ]
  },
  {
   "cell_type": "code",
   "execution_count": 44,
   "id": "bc95d0af-794a-4344-b16e-93f6e7a6751b",
   "metadata": {},
   "outputs": [],
   "source": [
    "#чтобы убедиться что распределение по партициям у нас лучше, чем при простом merge sort join без salt\n",
    "result_salt_check_partition = result_salt.groupBy(\"element_uid\", \"salt\").count().orderBy(F.col(\"count\").desc())"
   ]
  },
  {
   "cell_type": "code",
   "execution_count": 45,
   "id": "f245441f-b946-468c-954a-b5c4591054f6",
   "metadata": {},
   "outputs": [
    {
     "name": "stderr",
     "output_type": "stream",
     "text": [
      "24/07/11 17:46:11 WARN TaskSetManager: Stage 73 contains a task of very large size (1035 KiB). The maximum recommended task size is 1000 KiB.\n",
      "[Stage 75:================================================>     (179 + 2) / 200]\r"
     ]
    },
    {
     "name": "stdout",
     "output_type": "stream",
     "text": [
      "+-----------+----+------+\n",
      "|element_uid|salt|count |\n",
      "+-----------+----+------+\n",
      "|2714       |0   |546878|\n",
      "|2714       |1   |546700|\n",
      "|2714       |2   |546681|\n",
      "|2714       |3   |546279|\n",
      "|2714       |4   |546262|\n",
      "|747        |1   |12522 |\n",
      "|747        |3   |12335 |\n",
      "|747        |4   |12194 |\n",
      "|747        |2   |12151 |\n",
      "|747        |0   |12070 |\n",
      "|4401       |2   |78    |\n",
      "|8763       |2   |78    |\n",
      "|7923       |2   |78    |\n",
      "|9766       |4   |77    |\n",
      "|3332       |2   |77    |\n",
      "|4197       |0   |76    |\n",
      "|3162       |3   |75    |\n",
      "|8804       |1   |74    |\n",
      "|6306       |1   |73    |\n",
      "|5480       |4   |73    |\n",
      "+-----------+----+------+\n",
      "only showing top 20 rows\n",
      "\n"
     ]
    },
    {
     "name": "stderr",
     "output_type": "stream",
     "text": [
      "                                                                                \r"
     ]
    }
   ],
   "source": [
    "result_salt_check_partition.show(truncate=False)"
   ]
  },
  {
   "cell_type": "markdown",
   "id": "fbadfd83-5ccc-4ee3-a092-7e1c8d67d1db",
   "metadata": {},
   "source": [
    "В данном случае мы получили время выполнения 0.6с, что быстрее по сравнению с раннее двумя использованными способами. Это происходит за счет того, что происходит смягчение перекоса данных, что позволяет равномерно распределить данные по нескольким ключам, тем самым помогая сбалансировать нагрузку между узлами. Но как видим по плану работ shuffle при этом у нас сохраняется как при простом sort merge join."
   ]
  },
  {
   "cell_type": "markdown",
   "id": "01898809",
   "metadata": {},
   "source": [
    "# Задание 3\n",
    "\n",
    "## Входные данные \n",
    "\n",
    "*cut_transactions.csv*  — информация о длительности просомтра контента пользователям\n",
    "\n",
    "Описание фичей в cut_transactions.csv: \n",
    "1. user_uid — уникальный идентификатор пользователя\n",
    "2.  element_uid — уникальный идентификатор контента\n",
    "3.  watched_time — время просмотра в секундах\n",
    "\n",
    "*cut_ratings.csv*  — информация об оценках, поставленных пользователями\n",
    "\n",
    "Описание фичей в cut_ratings.csv: \n",
    "1. user_uid — уникальный идентификатор пользователя \n",
    "2. element_uid — уникальный идентификатор контента \n",
    "3. rating — поставленный пользователем рейтинг\n",
    "\n",
    "*ids.csv*  — выборка пользователей\n",
    "Описание фичей в ids.csv: \n",
    "1. user_uid — уникальный идентификатор пользователя \n",
    "\n",
    "\n",
    "## Что нужно сделать\n",
    "Для каждого пользователя из выборки посчитать:\n",
    "1. Максимальное и минимальное время просмотра фильмов с оценками 8, 9 и 10 \n",
    "2. Название фичи должно быть в формате feat_агрегирующая_функция_watched_time_rating_оценка. \n",
    "3. Если у пользователь не ставил оценки 8, 9 и 10 то значение фичей должно быть null\n",
    "4. Описать принятые при разработки кода решения и возможные оптимизации\n",
    "\n",
    "P.S. На каждом этапе обработки должно быть должны агрегироваться минимально возможные объемы данных (сокращаем затраты на shuflle)"
   ]
  },
  {
   "cell_type": "code",
   "execution_count": 46,
   "id": "1cb99364",
   "metadata": {},
   "outputs": [],
   "source": [
    "transactions_df = spark.read.option(\"header\", True).csv(\"s3a://input/data/cut_transactions.csv\")\n",
    "ratings_df = spark.read.option(\"header\", True).csv(\"s3a://input/data/cut_ratings.csv\")\n",
    "ratings_df = F.broadcast(ratings_df)\n",
    "sample = spark.read.option(\"header\", True).csv(\"s3a://input/data/ids.csv\")\n",
    "sample = F.broadcast(sample)"
   ]
  },
  {
   "cell_type": "code",
   "execution_count": 47,
   "id": "ff739948-4e41-41e7-b61c-7e241dbda95f",
   "metadata": {},
   "outputs": [
    {
     "name": "stdout",
     "output_type": "stream",
     "text": [
      "root\n",
      " |-- element_uid: string (nullable = true)\n",
      " |-- user_uid: string (nullable = true)\n",
      " |-- watched_time: string (nullable = true)\n",
      "\n"
     ]
    }
   ],
   "source": [
    "transactions_df.printSchema()"
   ]
  },
  {
   "cell_type": "code",
   "execution_count": 48,
   "id": "3a42ecf5-93cc-44bb-8d16-ebe87f9b9281",
   "metadata": {},
   "outputs": [
    {
     "name": "stdout",
     "output_type": "stream",
     "text": [
      "+-----------+--------+------------+\n",
      "|element_uid|user_uid|watched_time|\n",
      "+-----------+--------+------------+\n",
      "|       6130|  563180|        3264|\n",
      "|       2771|  133315|       10557|\n",
      "|        984|  290104|        6845|\n",
      "|       6980|  385385|        2734|\n",
      "|       2714|  408794|        7583|\n",
      "+-----------+--------+------------+\n",
      "only showing top 5 rows\n",
      "\n"
     ]
    }
   ],
   "source": [
    "transactions_df.show(5)"
   ]
  },
  {
   "cell_type": "code",
   "execution_count": 49,
   "id": "122835f3-eee3-429c-8269-4aec38fe8035",
   "metadata": {},
   "outputs": [
    {
     "name": "stdout",
     "output_type": "stream",
     "text": [
      "root\n",
      " |-- user_uid: string (nullable = true)\n",
      " |-- element_uid: string (nullable = true)\n",
      " |-- rating: string (nullable = true)\n",
      "\n"
     ]
    }
   ],
   "source": [
    "ratings_df.printSchema()"
   ]
  },
  {
   "cell_type": "code",
   "execution_count": 50,
   "id": "a32ce30c-78b2-45a9-80aa-8b03da439d19",
   "metadata": {},
   "outputs": [
    {
     "name": "stdout",
     "output_type": "stream",
     "text": [
      "+--------+-----------+------+\n",
      "|user_uid|element_uid|rating|\n",
      "+--------+-----------+------+\n",
      "|  566386|        747|     9|\n",
      "|   61690|       1415|     8|\n",
      "|  153993|       1912|    10|\n",
      "|  207861|       2714|    10|\n",
      "|  526934|       4558|     9|\n",
      "+--------+-----------+------+\n",
      "only showing top 5 rows\n",
      "\n"
     ]
    },
    {
     "name": "stderr",
     "output_type": "stream",
     "text": [
      "24/07/11 17:46:15 WARN HintErrorLogger: A join hint (strategy=broadcast) is specified but it is not part of a join relation.\n"
     ]
    }
   ],
   "source": [
    "ratings_df.show(5)"
   ]
  },
  {
   "cell_type": "code",
   "execution_count": 51,
   "id": "ab664140-099b-4748-ae6b-26a505f0b7dd",
   "metadata": {},
   "outputs": [
    {
     "name": "stdout",
     "output_type": "stream",
     "text": [
      "root\n",
      " |-- user_uid: string (nullable = true)\n",
      "\n"
     ]
    }
   ],
   "source": [
    "sample.printSchema()"
   ]
  },
  {
   "cell_type": "code",
   "execution_count": 52,
   "id": "29b52674-ed4f-4397-ab29-1e8bd826ffb8",
   "metadata": {},
   "outputs": [
    {
     "name": "stdout",
     "output_type": "stream",
     "text": [
      "+--------+\n",
      "|user_uid|\n",
      "+--------+\n",
      "|  207861|\n",
      "|  355521|\n",
      "|   74017|\n",
      "|  394262|\n",
      "|  524044|\n",
      "+--------+\n",
      "only showing top 5 rows\n",
      "\n"
     ]
    },
    {
     "name": "stderr",
     "output_type": "stream",
     "text": [
      "24/07/11 17:46:15 WARN HintErrorLogger: A join hint (strategy=broadcast) is specified but it is not part of a join relation.\n"
     ]
    }
   ],
   "source": [
    "sample.show(5)"
   ]
  },
  {
   "cell_type": "markdown",
   "id": "a0963ed4",
   "metadata": {},
   "source": [
    "### Решение"
   ]
  },
  {
   "cell_type": "code",
   "execution_count": 53,
   "id": "31dac489",
   "metadata": {},
   "outputs": [],
   "source": [
    "full_table = transactions_df.join(ratings_df , on=[\"user_uid\", \"element_uid\"], how=\"inner\").join(sample, on=\"user_uid\", how=\"inner\")"
   ]
  },
  {
   "cell_type": "code",
   "execution_count": 54,
   "id": "40fc85fb",
   "metadata": {},
   "outputs": [
    {
     "name": "stdout",
     "output_type": "stream",
     "text": [
      "+--------+-----------+------------+------+\n",
      "|user_uid|element_uid|watched_time|rating|\n",
      "+--------+-----------+------------+------+\n",
      "|  355521|        747|        7210|    10|\n",
      "|  207861|       2714|        8088|    10|\n",
      "|  394262|       7143|        5717|    10|\n",
      "|   74017|       1048|        6001|    10|\n",
      "|  145083|       6138|        7361|    10|\n",
      "+--------+-----------+------------+------+\n",
      "only showing top 5 rows\n",
      "\n"
     ]
    }
   ],
   "source": [
    "full_table.show(5)"
   ]
  },
  {
   "cell_type": "markdown",
   "id": "b75bdcde-1fa6-4988-b1f6-00a3093afda4",
   "metadata": {},
   "source": [
    "**Непосредственно решение нашей задачи**"
   ]
  },
  {
   "cell_type": "code",
   "execution_count": 55,
   "id": "e3d3c7a1-9cac-451a-97ce-93dfe1560ad4",
   "metadata": {},
   "outputs": [],
   "source": [
    "filtered_table = full_table.filter(F.col(\"rating\").isin([8, 9, 10]))\n",
    "full_table_filter = filtered_table.groupBy(\"user_uid\", \"rating\") \\\n",
    "                                  .agg(F.min(\"watched_time\").alias(\"min_watched_time\"), \n",
    "                                       F.max(\"watched_time\").alias(\"max_watched_time\"))\n"
   ]
  },
  {
   "cell_type": "code",
   "execution_count": 56,
   "id": "0436d25e-d3e9-4493-ad9c-c4500d99a19b",
   "metadata": {},
   "outputs": [],
   "source": [
    "# fulfilling the requirement of column format \n",
    "ratings = [8, 9, 10]\n",
    "result_df = sample\n",
    "\n",
    "for rating in ratings:\n",
    "    rating_df = full_table_filter.filter(F.col(\"rating\") == rating) \\\n",
    "                                 .select(\n",
    "                                     F.col(\"user_uid\"),\n",
    "                                     F.col(\"min_watched_time\").alias(f\"feat_min_watched_time_rating_{rating}\"),\n",
    "                                     F.col(\"max_watched_time\").alias(f\"feat_max_watched_time_rating_{rating}\")\n",
    "                                 )\n",
    "    result_df = result_df.join(rating_df, on=\"user_uid\", how=\"left\")\n",
    "\n",
    "# Sort table\n",
    "result_table = result_df.orderBy(\"user_uid\")"
   ]
  },
  {
   "cell_type": "code",
   "execution_count": 57,
   "id": "62c2a31c-7ced-4c52-93c9-6d0b129e5e8a",
   "metadata": {},
   "outputs": [
    {
     "name": "stderr",
     "output_type": "stream",
     "text": [
      "24/07/11 17:46:15 WARN HintErrorLogger: Hint (strategy=broadcast) is not supported in the query: build left for left outer join.\n",
      "[Stage 94:==========>   (153 + 2) / 200][Stage 95:=========>        (1 + 0) / 2]\r"
     ]
    },
    {
     "name": "stdout",
     "output_type": "stream",
     "text": [
      "+--------+------------------------------+------------------------------+------------------------------+------------------------------+-------------------------------+-------------------------------+\n",
      "|user_uid|feat_min_watched_time_rating_8|feat_max_watched_time_rating_8|feat_min_watched_time_rating_9|feat_max_watched_time_rating_9|feat_min_watched_time_rating_10|feat_max_watched_time_rating_10|\n",
      "+--------+------------------------------+------------------------------+------------------------------+------------------------------+-------------------------------+-------------------------------+\n",
      "|   11384|                          NULL|                          NULL|                          NULL|                          NULL|                           6797|                           7631|\n",
      "|  126454|                          NULL|                          NULL|                          NULL|                          NULL|                          34076|                          34076|\n",
      "|  131626|                          NULL|                          NULL|                          NULL|                          NULL|                           7205|                           7205|\n",
      "|  137958|                          NULL|                          NULL|                         12393|                          7673|                          11936|                           7133|\n",
      "|  145083|                          NULL|                          NULL|                          NULL|                          NULL|                           7361|                           7361|\n",
      "|  167839|                          8079|                          8079|                          NULL|                          NULL|                           4609|                           7731|\n",
      "|  197529|                          NULL|                          NULL|                          NULL|                          NULL|                           7426|                           7426|\n",
      "|  207861|                          NULL|                          NULL|                          NULL|                          NULL|                           8088|                           8088|\n",
      "|  226368|                          NULL|                          NULL|                          NULL|                          NULL|                           4759|                           4759|\n",
      "|  241442|                          NULL|                          NULL|                          NULL|                          NULL|                          99265|                          99265|\n",
      "+--------+------------------------------+------------------------------+------------------------------+------------------------------+-------------------------------+-------------------------------+\n",
      "only showing top 10 rows\n",
      "\n"
     ]
    },
    {
     "name": "stderr",
     "output_type": "stream",
     "text": [
      "                                                                                \r"
     ]
    }
   ],
   "source": [
    "result_table.show(10)"
   ]
  },
  {
   "cell_type": "code",
   "execution_count": 58,
   "id": "bd40363a",
   "metadata": {},
   "outputs": [
    {
     "name": "stderr",
     "output_type": "stream",
     "text": [
      "24/07/11 17:46:18 WARN HintErrorLogger: Hint (strategy=broadcast) is not supported in the query: build left for left outer join.\n"
     ]
    },
    {
     "name": "stdout",
     "output_type": "stream",
     "text": [
      "== Physical Plan ==\n",
      "*(20) Sort [user_uid#1144 ASC NULLS FIRST], true, 0\n",
      "+- Exchange rangepartitioning(user_uid#1144 ASC NULLS FIRST, 200), ENSURE_REQUIREMENTS, [plan_id=3529]\n",
      "   +- *(19) Project [user_uid#1144, feat_min_watched_time_rating_8#1231, feat_max_watched_time_rating_8#1232, feat_min_watched_time_rating_9#1241, feat_max_watched_time_rating_9#1242, feat_min_watched_time_rating_10#1261, feat_max_watched_time_rating_10#1262]\n",
      "      +- *(19) SortMergeJoin [user_uid#1144], [user_uid#1267], LeftOuter\n",
      "         :- *(13) Project [user_uid#1144, feat_min_watched_time_rating_8#1231, feat_max_watched_time_rating_8#1232, feat_min_watched_time_rating_9#1241, feat_max_watched_time_rating_9#1242]\n",
      "         :  +- *(13) SortMergeJoin [user_uid#1144], [user_uid#1247], LeftOuter\n",
      "         :     :- *(7) Project [user_uid#1144, feat_min_watched_time_rating_8#1231, feat_max_watched_time_rating_8#1232]\n",
      "         :     :  +- *(7) SortMergeJoin [user_uid#1144], [user_uid#1099], LeftOuter\n",
      "         :     :     :- *(1) Sort [user_uid#1144 ASC NULLS FIRST], false, 0\n",
      "         :     :     :  +- Exchange hashpartitioning(user_uid#1144, 200), ENSURE_REQUIREMENTS, [plan_id=3207]\n",
      "         :     :     :     +- FileScan csv [user_uid#1144] Batched: false, DataFilters: [], Format: CSV, Location: InMemoryFileIndex(1 paths)[s3a://input/data/ids.csv], PartitionFilters: [], PushedFilters: [], ReadSchema: struct<user_uid:string>\n",
      "         :     :     +- *(6) Sort [user_uid#1099 ASC NULLS FIRST], false, 0\n",
      "         :     :        +- Exchange hashpartitioning(user_uid#1099, 200), ENSURE_REQUIREMENTS, [plan_id=3284]\n",
      "         :     :           +- SortAggregate(key=[user_uid#1099, rating#1123], functions=[min(watched_time#1100), max(watched_time#1100)])\n",
      "         :     :              +- *(5) Sort [user_uid#1099 ASC NULLS FIRST, rating#1123 ASC NULLS FIRST], false, 0\n",
      "         :     :                 +- Exchange hashpartitioning(user_uid#1099, rating#1123, 200), ENSURE_REQUIREMENTS, [plan_id=3279]\n",
      "         :     :                    +- SortAggregate(key=[user_uid#1099, rating#1123], functions=[partial_min(watched_time#1100), partial_max(watched_time#1100)])\n",
      "         :     :                       +- *(4) Sort [user_uid#1099 ASC NULLS FIRST, rating#1123 ASC NULLS FIRST], false, 0\n",
      "         :     :                          +- *(4) Project [user_uid#1099, watched_time#1100, rating#1123]\n",
      "         :     :                             +- *(4) BroadcastHashJoin [user_uid#1099], [user_uid#1236], Inner, BuildRight, false\n",
      "         :     :                                :- *(4) Project [user_uid#1099, watched_time#1100, rating#1123]\n",
      "         :     :                                :  +- *(4) BroadcastHashJoin [user_uid#1099, element_uid#1098], [user_uid#1121, element_uid#1122], Inner, BuildRight, false\n",
      "         :     :                                :     :- *(4) Filter (isnotnull(user_uid#1099) AND isnotnull(element_uid#1098))\n",
      "         :     :                                :     :  +- FileScan csv [element_uid#1098,user_uid#1099,watched_time#1100] Batched: false, DataFilters: [isnotnull(user_uid#1099), isnotnull(element_uid#1098)], Format: CSV, Location: InMemoryFileIndex(1 paths)[s3a://input/data/cut_transactions.csv], PartitionFilters: [], PushedFilters: [IsNotNull(user_uid), IsNotNull(element_uid)], ReadSchema: struct<element_uid:string,user_uid:string,watched_time:string>\n",
      "         :     :                                :     +- BroadcastExchange HashedRelationBroadcastMode(List(input[0, string, false], input[1, string, false]),false), [plan_id=3265]\n",
      "         :     :                                :        +- *(2) Filter ((((isnotnull(rating#1123) AND rating#1123 IN (8,9,10)) AND (cast(rating#1123 as int) = 8)) AND isnotnull(user_uid#1121)) AND isnotnull(element_uid#1122))\n",
      "         :     :                                :           +- FileScan csv [user_uid#1121,element_uid#1122,rating#1123] Batched: false, DataFilters: [isnotnull(rating#1123), rating#1123 IN (8,9,10), (cast(rating#1123 as int) = 8), isnotnull(user_..., Format: CSV, Location: InMemoryFileIndex(1 paths)[s3a://input/data/cut_ratings.csv], PartitionFilters: [], PushedFilters: [IsNotNull(rating), In(rating, [10,8,9]), IsNotNull(user_uid), IsNotNull(element_uid)], ReadSchema: struct<user_uid:string,element_uid:string,rating:string>\n",
      "         :     :                                +- BroadcastExchange HashedRelationBroadcastMode(List(input[0, string, false]),false), [plan_id=3272]\n",
      "         :     :                                   +- *(3) Filter isnotnull(user_uid#1236)\n",
      "         :     :                                      +- FileScan csv [user_uid#1236] Batched: false, DataFilters: [isnotnull(user_uid#1236)], Format: CSV, Location: InMemoryFileIndex(1 paths)[s3a://input/data/ids.csv], PartitionFilters: [], PushedFilters: [IsNotNull(user_uid)], ReadSchema: struct<user_uid:string>\n",
      "         :     +- *(12) Sort [user_uid#1247 ASC NULLS FIRST], false, 0\n",
      "         :        +- Exchange hashpartitioning(user_uid#1247, 200), ENSURE_REQUIREMENTS, [plan_id=3451]\n",
      "         :           +- SortAggregate(key=[user_uid#1247, rating#1251], functions=[min(watched_time#1248), max(watched_time#1248)])\n",
      "         :              +- *(11) Sort [user_uid#1247 ASC NULLS FIRST, rating#1251 ASC NULLS FIRST], false, 0\n",
      "         :                 +- Exchange hashpartitioning(user_uid#1247, rating#1251, 200), ENSURE_REQUIREMENTS, [plan_id=3425]\n",
      "         :                    +- SortAggregate(key=[user_uid#1247, rating#1251], functions=[partial_min(watched_time#1248), partial_max(watched_time#1248)])\n",
      "         :                       +- *(10) Sort [user_uid#1247 ASC NULLS FIRST, rating#1251 ASC NULLS FIRST], false, 0\n",
      "         :                          +- *(10) Project [user_uid#1247, watched_time#1248, rating#1251]\n",
      "         :                             +- *(10) BroadcastHashJoin [user_uid#1247], [user_uid#1252], Inner, BuildRight, false\n",
      "         :                                :- *(10) Project [user_uid#1247, watched_time#1248, rating#1251]\n",
      "         :                                :  +- *(10) BroadcastHashJoin [user_uid#1247, element_uid#1246], [user_uid#1249, element_uid#1250], Inner, BuildRight, false\n",
      "         :                                :     :- *(10) Filter (isnotnull(user_uid#1247) AND isnotnull(element_uid#1246))\n",
      "         :                                :     :  +- FileScan csv [element_uid#1246,user_uid#1247,watched_time#1248] Batched: false, DataFilters: [isnotnull(user_uid#1247), isnotnull(element_uid#1246)], Format: CSV, Location: InMemoryFileIndex(1 paths)[s3a://input/data/cut_transactions.csv], PartitionFilters: [], PushedFilters: [IsNotNull(user_uid), IsNotNull(element_uid)], ReadSchema: struct<element_uid:string,user_uid:string,watched_time:string>\n",
      "         :                                :     +- BroadcastExchange HashedRelationBroadcastMode(List(input[0, string, false], input[1, string, false]),false), [plan_id=3298]\n",
      "         :                                :        +- *(8) Filter ((((isnotnull(rating#1251) AND rating#1251 IN (8,9,10)) AND (cast(rating#1251 as int) = 9)) AND isnotnull(user_uid#1249)) AND isnotnull(element_uid#1250))\n",
      "         :                                :           +- FileScan csv [user_uid#1249,element_uid#1250,rating#1251] Batched: false, DataFilters: [isnotnull(rating#1251), rating#1251 IN (8,9,10), (cast(rating#1251 as int) = 9), isnotnull(user_..., Format: CSV, Location: InMemoryFileIndex(1 paths)[s3a://input/data/cut_ratings.csv], PartitionFilters: [], PushedFilters: [IsNotNull(rating), In(rating, [10,8,9]), IsNotNull(user_uid), IsNotNull(element_uid)], ReadSchema: struct<user_uid:string,element_uid:string,rating:string>\n",
      "         :                                +- ReusedExchange [user_uid#1252], BroadcastExchange HashedRelationBroadcastMode(List(input[0, string, false]),false), [plan_id=3272]\n",
      "         +- *(18) Sort [user_uid#1267 ASC NULLS FIRST], false, 0\n",
      "            +- Exchange hashpartitioning(user_uid#1267, 200), ENSURE_REQUIREMENTS, [plan_id=3513]\n",
      "               +- SortAggregate(key=[user_uid#1267, rating#1271], functions=[min(watched_time#1268), max(watched_time#1268)])\n",
      "                  +- *(17) Sort [user_uid#1267 ASC NULLS FIRST, rating#1271 ASC NULLS FIRST], false, 0\n",
      "                     +- Exchange hashpartitioning(user_uid#1267, rating#1271, 200), ENSURE_REQUIREMENTS, [plan_id=3487]\n",
      "                        +- SortAggregate(key=[user_uid#1267, rating#1271], functions=[partial_min(watched_time#1268), partial_max(watched_time#1268)])\n",
      "                           +- *(16) Sort [user_uid#1267 ASC NULLS FIRST, rating#1271 ASC NULLS FIRST], false, 0\n",
      "                              +- *(16) Project [user_uid#1267, watched_time#1268, rating#1271]\n",
      "                                 +- *(16) BroadcastHashJoin [user_uid#1267], [user_uid#1272], Inner, BuildRight, false\n",
      "                                    :- *(16) Project [user_uid#1267, watched_time#1268, rating#1271]\n",
      "                                    :  +- *(16) BroadcastHashJoin [user_uid#1267, element_uid#1266], [user_uid#1269, element_uid#1270], Inner, BuildRight, false\n",
      "                                    :     :- *(16) Filter (isnotnull(user_uid#1267) AND isnotnull(element_uid#1266))\n",
      "                                    :     :  +- FileScan csv [element_uid#1266,user_uid#1267,watched_time#1268] Batched: false, DataFilters: [isnotnull(user_uid#1267), isnotnull(element_uid#1266)], Format: CSV, Location: InMemoryFileIndex(1 paths)[s3a://input/data/cut_transactions.csv], PartitionFilters: [], PushedFilters: [IsNotNull(user_uid), IsNotNull(element_uid)], ReadSchema: struct<element_uid:string,user_uid:string,watched_time:string>\n",
      "                                    :     +- BroadcastExchange HashedRelationBroadcastMode(List(input[0, string, false], input[1, string, false]),false), [plan_id=3331]\n",
      "                                    :        +- *(14) Filter ((((isnotnull(rating#1271) AND rating#1271 IN (8,9,10)) AND (cast(rating#1271 as int) = 10)) AND isnotnull(user_uid#1269)) AND isnotnull(element_uid#1270))\n",
      "                                    :           +- FileScan csv [user_uid#1269,element_uid#1270,rating#1271] Batched: false, DataFilters: [isnotnull(rating#1271), rating#1271 IN (8,9,10), (cast(rating#1271 as int) = 10), isnotnull(user..., Format: CSV, Location: InMemoryFileIndex(1 paths)[s3a://input/data/cut_ratings.csv], PartitionFilters: [], PushedFilters: [IsNotNull(rating), In(rating, [10,8,9]), IsNotNull(user_uid), IsNotNull(element_uid)], ReadSchema: struct<user_uid:string,element_uid:string,rating:string>\n",
      "                                    +- ReusedExchange [user_uid#1272], BroadcastExchange HashedRelationBroadcastMode(List(input[0, string, false]),false), [plan_id=3272]\n",
      "\n",
      "\n"
     ]
    },
    {
     "name": "stderr",
     "output_type": "stream",
     "text": [
      "24/07/11 17:46:18 WARN HintErrorLogger: Hint (strategy=broadcast) is not supported in the query: build left for left outer join.\n",
      "[Stage 107:============================>                            (1 + 1) / 2]\r"
     ]
    },
    {
     "name": "stdout",
     "output_type": "stream",
     "text": [
      "+--------+------------------------------+------------------------------+------------------------------+------------------------------+-------------------------------+-------------------------------+\n",
      "|user_uid|feat_min_watched_time_rating_8|feat_max_watched_time_rating_8|feat_min_watched_time_rating_9|feat_max_watched_time_rating_9|feat_min_watched_time_rating_10|feat_max_watched_time_rating_10|\n",
      "+--------+------------------------------+------------------------------+------------------------------+------------------------------+-------------------------------+-------------------------------+\n",
      "|11384   |NULL                          |NULL                          |NULL                          |NULL                          |6797                           |7631                           |\n",
      "|126454  |NULL                          |NULL                          |NULL                          |NULL                          |34076                          |34076                          |\n",
      "|131626  |NULL                          |NULL                          |NULL                          |NULL                          |7205                           |7205                           |\n",
      "|137958  |NULL                          |NULL                          |12393                         |7673                          |11936                          |7133                           |\n",
      "|145083  |NULL                          |NULL                          |NULL                          |NULL                          |7361                           |7361                           |\n",
      "|167839  |8079                          |8079                          |NULL                          |NULL                          |4609                           |7731                           |\n",
      "|197529  |NULL                          |NULL                          |NULL                          |NULL                          |7426                           |7426                           |\n",
      "|207861  |NULL                          |NULL                          |NULL                          |NULL                          |8088                           |8088                           |\n",
      "|226368  |NULL                          |NULL                          |NULL                          |NULL                          |4759                           |4759                           |\n",
      "|241442  |NULL                          |NULL                          |NULL                          |NULL                          |99265                          |99265                          |\n",
      "|25048   |NULL                          |NULL                          |NULL                          |NULL                          |6778                           |8466                           |\n",
      "|297395  |NULL                          |NULL                          |NULL                          |NULL                          |7009                           |7009                           |\n",
      "|303508  |NULL                          |NULL                          |NULL                          |NULL                          |59910                          |59910                          |\n",
      "|312309  |NULL                          |NULL                          |NULL                          |NULL                          |7550                           |7550                           |\n",
      "|315498  |NULL                          |NULL                          |NULL                          |NULL                          |7469                           |7469                           |\n",
      "|349610  |NULL                          |NULL                          |NULL                          |NULL                          |40                             |40                             |\n",
      "|355521  |NULL                          |NULL                          |NULL                          |NULL                          |7210                           |7210                           |\n",
      "|369364  |NULL                          |NULL                          |NULL                          |NULL                          |7401                           |7401                           |\n",
      "|379969  |NULL                          |NULL                          |NULL                          |NULL                          |13884                          |7731                           |\n",
      "|388515  |NULL                          |NULL                          |NULL                          |NULL                          |7138                           |7138                           |\n",
      "+--------+------------------------------+------------------------------+------------------------------+------------------------------+-------------------------------+-------------------------------+\n",
      "only showing top 20 rows\n",
      "\n"
     ]
    },
    {
     "name": "stderr",
     "output_type": "stream",
     "text": [
      "                                                                                \r"
     ]
    }
   ],
   "source": [
    "result_table.explain()\n",
    "result_table.show(truncate=False)"
   ]
  },
  {
   "cell_type": "markdown",
   "id": "b4a99401-1104-4e6e-ad77-544f611ecd8b",
   "metadata": {},
   "source": [
    "Опять же использовали подход с использованием broadcast hash join, поскольку наша табличка sample и cut_ratings небольшая, то это позволяет избежать shuffle операций и значительно ускорить join операции."
   ]
  }
 ],
 "metadata": {
  "kernelspec": {
   "display_name": "Python 3 (ipykernel)",
   "language": "python",
   "name": "python3"
  },
  "language_info": {
   "codemirror_mode": {
    "name": "ipython",
    "version": 3
   },
   "file_extension": ".py",
   "mimetype": "text/x-python",
   "name": "python",
   "nbconvert_exporter": "python",
   "pygments_lexer": "ipython3",
   "version": "3.11.9"
  }
 },
 "nbformat": 4,
 "nbformat_minor": 5
}
